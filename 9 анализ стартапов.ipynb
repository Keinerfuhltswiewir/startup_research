{
 "cells": [
  {
   "cell_type": "markdown",
   "id": "063af0a5-dfda-4f44-85cb-5a9a7c283813",
   "metadata": {},
   "source": [
    "# Исследование стартапов\n",
    "\n",
    "## Цель и задачи  \n",
    "\n",
    "**Цель:** Подготовить датасет и проверить, что данные в нём соответствуют здравому смыслу, а также ответить на вопросы как о предобработке, так и о значении данных для бизнеса. \n",
    "\n",
    "**Задачи, требующие ответов:**\n",
    "1. По каким столбцам можно объединять данные из разных таблиц;\n",
    "2. Можно ли доверять данным о сотрудниках стартапов и их образовании;\n",
    "3. Что значат покупки за 0 или за 1 доллар;\n",
    "4. Какая цена в зависимости от категории стартапов и количества раундов финансирования перед его покупкой;\n",
    "5. Как рассчитать и отобразить численные показатели и динамику.\n",
    "\n",
    "## Данные\n",
    "\n",
    "Данные для анализа содержат пять основных датасетов\n",
    "\n",
    "- `acquisition.csv` - информация о покупках одними компаниями других компаний;\n",
    "- `company_and_rounds.csv` - информация о компаниях и раундах финансирования;\n",
    "- `education.csv` - информация об образовании сотрудника;\n",
    "- `people.csv` - информация о сотрудниках;\n",
    "- `degrees.csv` - информация о типе образования сотрудника.\n",
    "\n",
    "Помимо основных, есть две таблицы не требующиеся для выполнения проекта, но связанные с исследуемыми данными:\n",
    "\n",
    "- `fund.csv` - информация о фондах;\n",
    "- `investment.csv` - информация о раундах инвестирования.\n",
    "\n",
    "## Структура проекта\n",
    "\n",
    "1. Знакомство с данными: загрузка и первичная предобработка.\n",
    "2. Предобработка данных, предварительное исследование.\n",
    "3. Исследовательский анализ объединённых таблиц.\n",
    "4. Итоговый вывод и рекомендации."
   ]
  },
  {
   "cell_type": "markdown",
   "id": "2e863931-ca80-40d9-9ae9-d83893a25591",
   "metadata": {},
   "source": [
    "## 1. Знакомство с данными: загрузка и первичная предобработка.\n",
    "\n",
    "### 1.1. Вывод общей информации, исправление названия столбцов\n",
    "\n",
    "Начнём с загрузки библиотек и датасетов `acquisition`, `company_and_rounds`, `education`, `people` и `degrees`. Будем использовать pandas и библиотеки визуализации данных matplotlib и seaborn. Данные датасетов сохраним в переменных: `acquisition_df`, `company_and_rounds_df`, `education_df`, `people_df` и `degrees_df`."
   ]
  },
  {
   "cell_type": "code",
   "execution_count": 4,
   "id": "1dfe8b28-49d9-4bcb-90ca-a57c1d55d756",
   "metadata": {},
   "outputs": [],
   "source": [
    "# Импортируем библиотеки\n",
    "import pandas as pd\n",
    "\n",
    "# Загружаем библиотеки для дальнейшей визуализации данных\n",
    "import matplotlib.pyplot as plt\n",
    "import seaborn as sns"
   ]
  },
  {
   "cell_type": "code",
   "execution_count": 5,
   "id": "a876fa56-39a8-4204-a5ff-7b5ce91f5da8",
   "metadata": {},
   "outputs": [],
   "source": [
    "# Выгружаем данные в переменные\n",
    "company_and_rounds_df = pd.read_csv('https://code.s3.yandex.net/datasets/company_and_rounds.csv')\n",
    "acquisition_df = pd.read_csv('https://code.s3.yandex.net/datasets/acquisition.csv')\n",
    "people_df = pd.read_csv('https://code.s3.yandex.net/datasets/people.csv')\n",
    "education_df = pd.read_csv('https://code.s3.yandex.net/datasets/education.csv')\n",
    "degrees_df = pd.read_csv('https://code.s3.yandex.net/datasets/degrees.csv')\n",
    "investment_df = pd.read_csv('https://code.s3.yandex.net/datasets/investment.csv')\n",
    "fund_df = pd.read_csv('https://code.s3.yandex.net/datasets/fund.csv')"
   ]
  },
  {
   "cell_type": "markdown",
   "id": "6a22ce2f-083f-453a-a447-c5932455489d",
   "metadata": {},
   "source": [
    "Познакомимся с данными датасета `company_and_rounds.csv` — выведем первые строки методом `head()`, а информацию о датафрейме методом `info()`:"
   ]
  },
  {
   "cell_type": "code",
   "execution_count": 7,
   "id": "147645d0-f914-4332-8e5a-bae991cf1ee8",
   "metadata": {},
   "outputs": [
    {
     "data": {
      "text/html": [
       "<div>\n",
       "<style scoped>\n",
       "    .dataframe tbody tr th:only-of-type {\n",
       "        vertical-align: middle;\n",
       "    }\n",
       "\n",
       "    .dataframe tbody tr th {\n",
       "        vertical-align: top;\n",
       "    }\n",
       "\n",
       "    .dataframe thead th {\n",
       "        text-align: right;\n",
       "    }\n",
       "</style>\n",
       "<table border=\"1\" class=\"dataframe\">\n",
       "  <thead>\n",
       "    <tr style=\"text-align: right;\">\n",
       "      <th></th>\n",
       "      <th>company  ID</th>\n",
       "      <th>name</th>\n",
       "      <th>category  code</th>\n",
       "      <th>status</th>\n",
       "      <th>founded  at</th>\n",
       "      <th>closed  at</th>\n",
       "      <th>domain</th>\n",
       "      <th>network  username</th>\n",
       "      <th>country  code</th>\n",
       "      <th>investment  rounds</th>\n",
       "      <th>funding  rounds</th>\n",
       "      <th>funding  total</th>\n",
       "      <th>milestones</th>\n",
       "      <th>funding  round  id</th>\n",
       "      <th>company  id</th>\n",
       "      <th>funded  at</th>\n",
       "      <th>funding  round  type</th>\n",
       "      <th>raised  amount</th>\n",
       "      <th>pre  money  valuation</th>\n",
       "      <th>participants</th>\n",
       "      <th>is  first  round</th>\n",
       "      <th>is  last  round</th>\n",
       "    </tr>\n",
       "  </thead>\n",
       "  <tbody>\n",
       "    <tr>\n",
       "      <th>0</th>\n",
       "      <td>1.0</td>\n",
       "      <td>Wetpaint</td>\n",
       "      <td>web</td>\n",
       "      <td>operating</td>\n",
       "      <td>2005-10-17</td>\n",
       "      <td>NaN</td>\n",
       "      <td>wetpaint-inc.com</td>\n",
       "      <td>BachelrWetpaint</td>\n",
       "      <td>USA</td>\n",
       "      <td>0.0</td>\n",
       "      <td>3.0</td>\n",
       "      <td>39750000.0</td>\n",
       "      <td>5.0</td>\n",
       "      <td>888.0</td>\n",
       "      <td>1.0</td>\n",
       "      <td>2005-10-01</td>\n",
       "      <td>series-a</td>\n",
       "      <td>5250000.0</td>\n",
       "      <td>0.0</td>\n",
       "      <td>2.0</td>\n",
       "      <td>0.0</td>\n",
       "      <td>1.0</td>\n",
       "    </tr>\n",
       "    <tr>\n",
       "      <th>1</th>\n",
       "      <td>1.0</td>\n",
       "      <td>Wetpaint</td>\n",
       "      <td>web</td>\n",
       "      <td>operating</td>\n",
       "      <td>2005-10-17</td>\n",
       "      <td>NaN</td>\n",
       "      <td>wetpaint-inc.com</td>\n",
       "      <td>BachelrWetpaint</td>\n",
       "      <td>USA</td>\n",
       "      <td>0.0</td>\n",
       "      <td>3.0</td>\n",
       "      <td>39750000.0</td>\n",
       "      <td>5.0</td>\n",
       "      <td>889.0</td>\n",
       "      <td>1.0</td>\n",
       "      <td>2007-01-01</td>\n",
       "      <td>series-b</td>\n",
       "      <td>9500000.0</td>\n",
       "      <td>0.0</td>\n",
       "      <td>3.0</td>\n",
       "      <td>0.0</td>\n",
       "      <td>0.0</td>\n",
       "    </tr>\n",
       "    <tr>\n",
       "      <th>2</th>\n",
       "      <td>1.0</td>\n",
       "      <td>Wetpaint</td>\n",
       "      <td>web</td>\n",
       "      <td>operating</td>\n",
       "      <td>2005-10-17</td>\n",
       "      <td>NaN</td>\n",
       "      <td>wetpaint-inc.com</td>\n",
       "      <td>BachelrWetpaint</td>\n",
       "      <td>USA</td>\n",
       "      <td>0.0</td>\n",
       "      <td>3.0</td>\n",
       "      <td>39750000.0</td>\n",
       "      <td>5.0</td>\n",
       "      <td>2312.0</td>\n",
       "      <td>1.0</td>\n",
       "      <td>2008-05-19</td>\n",
       "      <td>series-c+</td>\n",
       "      <td>25000000.0</td>\n",
       "      <td>0.0</td>\n",
       "      <td>4.0</td>\n",
       "      <td>1.0</td>\n",
       "      <td>0.0</td>\n",
       "    </tr>\n",
       "    <tr>\n",
       "      <th>3</th>\n",
       "      <td>10.0</td>\n",
       "      <td>Flektor</td>\n",
       "      <td>games_video</td>\n",
       "      <td>acquired</td>\n",
       "      <td>NaN</td>\n",
       "      <td>NaN</td>\n",
       "      <td>flektor.com</td>\n",
       "      <td>NaN</td>\n",
       "      <td>USA</td>\n",
       "      <td>0.0</td>\n",
       "      <td>0.0</td>\n",
       "      <td>0.0</td>\n",
       "      <td>0.0</td>\n",
       "      <td>NaN</td>\n",
       "      <td>NaN</td>\n",
       "      <td>NaN</td>\n",
       "      <td>NaN</td>\n",
       "      <td>NaN</td>\n",
       "      <td>NaN</td>\n",
       "      <td>NaN</td>\n",
       "      <td>NaN</td>\n",
       "      <td>NaN</td>\n",
       "    </tr>\n",
       "    <tr>\n",
       "      <th>4</th>\n",
       "      <td>100.0</td>\n",
       "      <td>There</td>\n",
       "      <td>games_video</td>\n",
       "      <td>acquired</td>\n",
       "      <td>NaN</td>\n",
       "      <td>NaN</td>\n",
       "      <td>there.com</td>\n",
       "      <td>NaN</td>\n",
       "      <td>USA</td>\n",
       "      <td>0.0</td>\n",
       "      <td>0.0</td>\n",
       "      <td>0.0</td>\n",
       "      <td>4.0</td>\n",
       "      <td>NaN</td>\n",
       "      <td>NaN</td>\n",
       "      <td>NaN</td>\n",
       "      <td>NaN</td>\n",
       "      <td>NaN</td>\n",
       "      <td>NaN</td>\n",
       "      <td>NaN</td>\n",
       "      <td>NaN</td>\n",
       "      <td>NaN</td>\n",
       "    </tr>\n",
       "  </tbody>\n",
       "</table>\n",
       "</div>"
      ],
      "text/plain": [
       "   company  ID      name category  code     status founded  at closed  at  \\\n",
       "0          1.0  Wetpaint            web  operating  2005-10-17        NaN   \n",
       "1          1.0  Wetpaint            web  operating  2005-10-17        NaN   \n",
       "2          1.0  Wetpaint            web  operating  2005-10-17        NaN   \n",
       "3         10.0   Flektor    games_video   acquired         NaN        NaN   \n",
       "4        100.0     There    games_video   acquired         NaN        NaN   \n",
       "\n",
       "             domain network  username country  code  investment  rounds  \\\n",
       "0  wetpaint-inc.com   BachelrWetpaint           USA                 0.0   \n",
       "1  wetpaint-inc.com   BachelrWetpaint           USA                 0.0   \n",
       "2  wetpaint-inc.com   BachelrWetpaint           USA                 0.0   \n",
       "3       flektor.com               NaN           USA                 0.0   \n",
       "4         there.com               NaN           USA                 0.0   \n",
       "\n",
       "   funding  rounds  funding  total  milestones  funding  round  id  \\\n",
       "0              3.0      39750000.0         5.0               888.0   \n",
       "1              3.0      39750000.0         5.0               889.0   \n",
       "2              3.0      39750000.0         5.0              2312.0   \n",
       "3              0.0             0.0         0.0                 NaN   \n",
       "4              0.0             0.0         4.0                 NaN   \n",
       "\n",
       "   company  id  funded  at funding  round  type  raised  amount  \\\n",
       "0          1.0  2005-10-01             series-a       5250000.0   \n",
       "1          1.0  2007-01-01             series-b       9500000.0   \n",
       "2          1.0  2008-05-19            series-c+      25000000.0   \n",
       "3          NaN         NaN                  NaN             NaN   \n",
       "4          NaN         NaN                  NaN             NaN   \n",
       "\n",
       "   pre  money  valuation  participants  is  first  round  is  last  round  \n",
       "0                    0.0           2.0               0.0              1.0  \n",
       "1                    0.0           3.0               0.0              0.0  \n",
       "2                    0.0           4.0               1.0              0.0  \n",
       "3                    NaN           NaN               NaN              NaN  \n",
       "4                    NaN           NaN               NaN              NaN  "
      ]
     },
     "execution_count": 7,
     "metadata": {},
     "output_type": "execute_result"
    }
   ],
   "source": [
    "# Выводим первые строки датафрейма на экран\n",
    "pd.set_option('display.max.columns', 22)\n",
    "company_and_rounds_df.head()"
   ]
  },
  {
   "cell_type": "code",
   "execution_count": 8,
   "id": "d45245a3-99ff-408b-95fb-1f39650c1fe4",
   "metadata": {},
   "outputs": [
    {
     "name": "stdout",
     "output_type": "stream",
     "text": [
      "<class 'pandas.core.frame.DataFrame'>\n",
      "RangeIndex: 217774 entries, 0 to 217773\n",
      "Data columns (total 22 columns):\n",
      " #   Column                 Non-Null Count   Dtype  \n",
      "---  ------                 --------------   -----  \n",
      " 0   company  ID            217472 non-null  float64\n",
      " 1   name                   217471 non-null  object \n",
      " 2   category  code         143886 non-null  object \n",
      " 3   status                 217472 non-null  object \n",
      " 4   founded  at            109956 non-null  object \n",
      " 5   closed  at             3449 non-null    object \n",
      " 6   domain                 147159 non-null  object \n",
      " 7   network  username      95534 non-null   object \n",
      " 8   country  code          108607 non-null  object \n",
      " 9   investment  rounds     217472 non-null  float64\n",
      " 10  funding  rounds        217472 non-null  float64\n",
      " 11  funding  total         217472 non-null  float64\n",
      " 12  milestones             217472 non-null  float64\n",
      " 13  funding  round  id     52928 non-null   float64\n",
      " 14  company  id            52928 non-null   float64\n",
      " 15  funded  at             52680 non-null   object \n",
      " 16  funding  round  type   52928 non-null   object \n",
      " 17  raised  amount         52928 non-null   float64\n",
      " 18  pre  money  valuation  52928 non-null   float64\n",
      " 19  participants           52928 non-null   float64\n",
      " 20  is  first  round       52928 non-null   float64\n",
      " 21  is  last  round        52928 non-null   float64\n",
      "dtypes: float64(12), object(10)\n",
      "memory usage: 36.6+ MB\n"
     ]
    }
   ],
   "source": [
    "# Выводим информацию о датафрейме\n",
    "company_and_rounds_df.info()"
   ]
  },
  {
   "cell_type": "markdown",
   "id": "5bbdb269-d154-419f-9bfc-a407cce0b4a1",
   "metadata": {},
   "source": [
    "Таким же образом загрузим остальные датасеты:"
   ]
  },
  {
   "cell_type": "code",
   "execution_count": 10,
   "id": "75f4e246-b628-453c-aa6c-22d47af7eb67",
   "metadata": {},
   "outputs": [
    {
     "data": {
      "text/html": [
       "<div>\n",
       "<style scoped>\n",
       "    .dataframe tbody tr th:only-of-type {\n",
       "        vertical-align: middle;\n",
       "    }\n",
       "\n",
       "    .dataframe tbody tr th {\n",
       "        vertical-align: top;\n",
       "    }\n",
       "\n",
       "    .dataframe thead th {\n",
       "        text-align: right;\n",
       "    }\n",
       "</style>\n",
       "<table border=\"1\" class=\"dataframe\">\n",
       "  <thead>\n",
       "    <tr style=\"text-align: right;\">\n",
       "      <th></th>\n",
       "      <th>id</th>\n",
       "      <th>acquiring_company_id</th>\n",
       "      <th>acquired_company_id</th>\n",
       "      <th>term_code</th>\n",
       "      <th>price_amount</th>\n",
       "      <th>acquired_at</th>\n",
       "    </tr>\n",
       "  </thead>\n",
       "  <tbody>\n",
       "    <tr>\n",
       "      <th>0</th>\n",
       "      <td>1</td>\n",
       "      <td>11</td>\n",
       "      <td>10</td>\n",
       "      <td>NaN</td>\n",
       "      <td>20000000</td>\n",
       "      <td>2007-05-30</td>\n",
       "    </tr>\n",
       "    <tr>\n",
       "      <th>1</th>\n",
       "      <td>7</td>\n",
       "      <td>59</td>\n",
       "      <td>72</td>\n",
       "      <td>cash</td>\n",
       "      <td>60000000</td>\n",
       "      <td>2007-07-01</td>\n",
       "    </tr>\n",
       "    <tr>\n",
       "      <th>2</th>\n",
       "      <td>8</td>\n",
       "      <td>24</td>\n",
       "      <td>132</td>\n",
       "      <td>cash</td>\n",
       "      <td>280000000</td>\n",
       "      <td>2007-05-01</td>\n",
       "    </tr>\n",
       "    <tr>\n",
       "      <th>3</th>\n",
       "      <td>9</td>\n",
       "      <td>59</td>\n",
       "      <td>155</td>\n",
       "      <td>cash</td>\n",
       "      <td>100000000</td>\n",
       "      <td>2007-06-01</td>\n",
       "    </tr>\n",
       "    <tr>\n",
       "      <th>4</th>\n",
       "      <td>10</td>\n",
       "      <td>212</td>\n",
       "      <td>215</td>\n",
       "      <td>cash</td>\n",
       "      <td>25000000</td>\n",
       "      <td>2007-07-01</td>\n",
       "    </tr>\n",
       "  </tbody>\n",
       "</table>\n",
       "</div>"
      ],
      "text/plain": [
       "   id  acquiring_company_id  acquired_company_id term_code  price_amount  \\\n",
       "0   1                    11                   10       NaN      20000000   \n",
       "1   7                    59                   72      cash      60000000   \n",
       "2   8                    24                  132      cash     280000000   \n",
       "3   9                    59                  155      cash     100000000   \n",
       "4  10                   212                  215      cash      25000000   \n",
       "\n",
       "  acquired_at  \n",
       "0  2007-05-30  \n",
       "1  2007-07-01  \n",
       "2  2007-05-01  \n",
       "3  2007-06-01  \n",
       "4  2007-07-01  "
      ]
     },
     "execution_count": 10,
     "metadata": {},
     "output_type": "execute_result"
    }
   ],
   "source": [
    "# Выводим первые строки датафрейма на экран\n",
    "acquisition_df.head()"
   ]
  },
  {
   "cell_type": "code",
   "execution_count": 11,
   "id": "b3eb3a09-4072-4ebd-9908-5bf086a7afd1",
   "metadata": {},
   "outputs": [
    {
     "name": "stdout",
     "output_type": "stream",
     "text": [
      "<class 'pandas.core.frame.DataFrame'>\n",
      "RangeIndex: 9407 entries, 0 to 9406\n",
      "Data columns (total 6 columns):\n",
      " #   Column                Non-Null Count  Dtype \n",
      "---  ------                --------------  ----- \n",
      " 0   id                    9407 non-null   int64 \n",
      " 1   acquiring_company_id  9407 non-null   int64 \n",
      " 2   acquired_company_id   9407 non-null   int64 \n",
      " 3   term_code             1831 non-null   object\n",
      " 4   price_amount          9407 non-null   int64 \n",
      " 5   acquired_at           9378 non-null   object\n",
      "dtypes: int64(4), object(2)\n",
      "memory usage: 441.1+ KB\n"
     ]
    }
   ],
   "source": [
    "# Выводим информацию о датафрейме\n",
    "acquisition_df.info()"
   ]
  },
  {
   "cell_type": "code",
   "execution_count": 12,
   "id": "3ea1538e-1413-498e-95be-bb4db1e62df6",
   "metadata": {},
   "outputs": [
    {
     "data": {
      "text/html": [
       "<div>\n",
       "<style scoped>\n",
       "    .dataframe tbody tr th:only-of-type {\n",
       "        vertical-align: middle;\n",
       "    }\n",
       "\n",
       "    .dataframe tbody tr th {\n",
       "        vertical-align: top;\n",
       "    }\n",
       "\n",
       "    .dataframe thead th {\n",
       "        text-align: right;\n",
       "    }\n",
       "</style>\n",
       "<table border=\"1\" class=\"dataframe\">\n",
       "  <thead>\n",
       "    <tr style=\"text-align: right;\">\n",
       "      <th></th>\n",
       "      <th>id</th>\n",
       "      <th>first_name</th>\n",
       "      <th>last_name</th>\n",
       "      <th>company_id</th>\n",
       "      <th>network_username</th>\n",
       "    </tr>\n",
       "  </thead>\n",
       "  <tbody>\n",
       "    <tr>\n",
       "      <th>0</th>\n",
       "      <td>10</td>\n",
       "      <td>Mark</td>\n",
       "      <td>Zuckerberg</td>\n",
       "      <td>5.0</td>\n",
       "      <td>NaN</td>\n",
       "    </tr>\n",
       "    <tr>\n",
       "      <th>1</th>\n",
       "      <td>100</td>\n",
       "      <td>Peter</td>\n",
       "      <td>Lester</td>\n",
       "      <td>27.0</td>\n",
       "      <td>NaN</td>\n",
       "    </tr>\n",
       "    <tr>\n",
       "      <th>2</th>\n",
       "      <td>1000</td>\n",
       "      <td>Dr. Steven</td>\n",
       "      <td>E. Saunders</td>\n",
       "      <td>292.0</td>\n",
       "      <td>NaN</td>\n",
       "    </tr>\n",
       "    <tr>\n",
       "      <th>3</th>\n",
       "      <td>10000</td>\n",
       "      <td>Neil</td>\n",
       "      <td>Capel</td>\n",
       "      <td>2526.0</td>\n",
       "      <td>NaN</td>\n",
       "    </tr>\n",
       "    <tr>\n",
       "      <th>4</th>\n",
       "      <td>100000</td>\n",
       "      <td>Sue</td>\n",
       "      <td>Pilsch</td>\n",
       "      <td>NaN</td>\n",
       "      <td>NaN</td>\n",
       "    </tr>\n",
       "  </tbody>\n",
       "</table>\n",
       "</div>"
      ],
      "text/plain": [
       "       id  first_name    last_name  company_id network_username\n",
       "0      10        Mark   Zuckerberg         5.0              NaN\n",
       "1     100       Peter       Lester        27.0              NaN\n",
       "2    1000  Dr. Steven  E. Saunders       292.0              NaN\n",
       "3   10000        Neil        Capel      2526.0              NaN\n",
       "4  100000         Sue       Pilsch         NaN              NaN"
      ]
     },
     "execution_count": 12,
     "metadata": {},
     "output_type": "execute_result"
    }
   ],
   "source": [
    "# Выводим первые строки датафрейма на экран\n",
    "people_df.head()"
   ]
  },
  {
   "cell_type": "code",
   "execution_count": 13,
   "id": "4c8af65d-d28a-47de-815e-047311159bb7",
   "metadata": {},
   "outputs": [
    {
     "name": "stdout",
     "output_type": "stream",
     "text": [
      "<class 'pandas.core.frame.DataFrame'>\n",
      "RangeIndex: 226709 entries, 0 to 226708\n",
      "Data columns (total 5 columns):\n",
      " #   Column            Non-Null Count   Dtype  \n",
      "---  ------            --------------   -----  \n",
      " 0   id                226709 non-null  int64  \n",
      " 1   first_name        226700 non-null  object \n",
      " 2   last_name         226705 non-null  object \n",
      " 3   company_id        34615 non-null   float64\n",
      " 4   network_username  38867 non-null   object \n",
      "dtypes: float64(1), int64(1), object(3)\n",
      "memory usage: 8.6+ MB\n"
     ]
    }
   ],
   "source": [
    "# Выводим информацию о датафрейме\n",
    "people_df.info()"
   ]
  },
  {
   "cell_type": "code",
   "execution_count": 14,
   "id": "034c952c-793e-4f3f-9b24-62c75c233dd0",
   "metadata": {},
   "outputs": [
    {
     "data": {
      "text/html": [
       "<div>\n",
       "<style scoped>\n",
       "    .dataframe tbody tr th:only-of-type {\n",
       "        vertical-align: middle;\n",
       "    }\n",
       "\n",
       "    .dataframe tbody tr th {\n",
       "        vertical-align: top;\n",
       "    }\n",
       "\n",
       "    .dataframe thead th {\n",
       "        text-align: right;\n",
       "    }\n",
       "</style>\n",
       "<table border=\"1\" class=\"dataframe\">\n",
       "  <thead>\n",
       "    <tr style=\"text-align: right;\">\n",
       "      <th></th>\n",
       "      <th>id</th>\n",
       "      <th>person_id</th>\n",
       "      <th>instituition</th>\n",
       "      <th>graduated_at</th>\n",
       "    </tr>\n",
       "  </thead>\n",
       "  <tbody>\n",
       "    <tr>\n",
       "      <th>0</th>\n",
       "      <td>1</td>\n",
       "      <td>6117</td>\n",
       "      <td>NaN</td>\n",
       "      <td>NaN</td>\n",
       "    </tr>\n",
       "    <tr>\n",
       "      <th>1</th>\n",
       "      <td>2</td>\n",
       "      <td>6136</td>\n",
       "      <td>Washington University, St. Louis</td>\n",
       "      <td>1990-01-01</td>\n",
       "    </tr>\n",
       "    <tr>\n",
       "      <th>2</th>\n",
       "      <td>3</td>\n",
       "      <td>6136</td>\n",
       "      <td>Boston University</td>\n",
       "      <td>1992-01-01</td>\n",
       "    </tr>\n",
       "    <tr>\n",
       "      <th>3</th>\n",
       "      <td>4</td>\n",
       "      <td>6005</td>\n",
       "      <td>University of Greenwich</td>\n",
       "      <td>2006-01-01</td>\n",
       "    </tr>\n",
       "    <tr>\n",
       "      <th>4</th>\n",
       "      <td>5</td>\n",
       "      <td>5832</td>\n",
       "      <td>Rice University</td>\n",
       "      <td>NaN</td>\n",
       "    </tr>\n",
       "  </tbody>\n",
       "</table>\n",
       "</div>"
      ],
      "text/plain": [
       "   id  person_id                      instituition graduated_at\n",
       "0   1       6117                               NaN          NaN\n",
       "1   2       6136  Washington University, St. Louis   1990-01-01\n",
       "2   3       6136                 Boston University   1992-01-01\n",
       "3   4       6005           University of Greenwich   2006-01-01\n",
       "4   5       5832                   Rice University          NaN"
      ]
     },
     "execution_count": 14,
     "metadata": {},
     "output_type": "execute_result"
    }
   ],
   "source": [
    "# Выводим первые строки датафрейма на экран\n",
    "education_df.head()"
   ]
  },
  {
   "cell_type": "code",
   "execution_count": 15,
   "id": "eb9b3f3a-50dd-423f-9aab-f49a0187ca73",
   "metadata": {},
   "outputs": [
    {
     "name": "stdout",
     "output_type": "stream",
     "text": [
      "<class 'pandas.core.frame.DataFrame'>\n",
      "RangeIndex: 109610 entries, 0 to 109609\n",
      "Data columns (total 4 columns):\n",
      " #   Column        Non-Null Count   Dtype \n",
      "---  ------        --------------   ----- \n",
      " 0   id            109610 non-null  int64 \n",
      " 1   person_id     109610 non-null  int64 \n",
      " 2   instituition  109555 non-null  object\n",
      " 3   graduated_at  58054 non-null   object\n",
      "dtypes: int64(2), object(2)\n",
      "memory usage: 3.3+ MB\n"
     ]
    }
   ],
   "source": [
    "# Выводим информацию о датафрейме\n",
    "education_df.info()"
   ]
  },
  {
   "cell_type": "code",
   "execution_count": 16,
   "id": "31ca1662-d3a3-48b1-b46c-d43e7c5d24c9",
   "metadata": {},
   "outputs": [
    {
     "data": {
      "text/html": [
       "<div>\n",
       "<style scoped>\n",
       "    .dataframe tbody tr th:only-of-type {\n",
       "        vertical-align: middle;\n",
       "    }\n",
       "\n",
       "    .dataframe tbody tr th {\n",
       "        vertical-align: top;\n",
       "    }\n",
       "\n",
       "    .dataframe thead th {\n",
       "        text-align: right;\n",
       "    }\n",
       "</style>\n",
       "<table border=\"1\" class=\"dataframe\">\n",
       "  <thead>\n",
       "    <tr style=\"text-align: right;\">\n",
       "      <th></th>\n",
       "      <th>id</th>\n",
       "      <th>object_id</th>\n",
       "      <th>degree_type</th>\n",
       "      <th>subject</th>\n",
       "    </tr>\n",
       "  </thead>\n",
       "  <tbody>\n",
       "    <tr>\n",
       "      <th>0</th>\n",
       "      <td>1</td>\n",
       "      <td>p:6117</td>\n",
       "      <td>MBA</td>\n",
       "      <td>NaN</td>\n",
       "    </tr>\n",
       "    <tr>\n",
       "      <th>1</th>\n",
       "      <td>2</td>\n",
       "      <td>p:6136</td>\n",
       "      <td>BA</td>\n",
       "      <td>English, French</td>\n",
       "    </tr>\n",
       "    <tr>\n",
       "      <th>2</th>\n",
       "      <td>3</td>\n",
       "      <td>p:6136</td>\n",
       "      <td>MS</td>\n",
       "      <td>Mass Communication</td>\n",
       "    </tr>\n",
       "    <tr>\n",
       "      <th>3</th>\n",
       "      <td>4</td>\n",
       "      <td>p:6005</td>\n",
       "      <td>MS</td>\n",
       "      <td>Internet Technology</td>\n",
       "    </tr>\n",
       "    <tr>\n",
       "      <th>4</th>\n",
       "      <td>5</td>\n",
       "      <td>p:5832</td>\n",
       "      <td>BCS</td>\n",
       "      <td>Computer Science, Psychology</td>\n",
       "    </tr>\n",
       "  </tbody>\n",
       "</table>\n",
       "</div>"
      ],
      "text/plain": [
       "   id object_id degree_type                       subject\n",
       "0   1    p:6117         MBA                           NaN\n",
       "1   2    p:6136          BA               English, French\n",
       "2   3    p:6136          MS            Mass Communication\n",
       "3   4    p:6005          MS           Internet Technology\n",
       "4   5    p:5832         BCS  Computer Science, Psychology"
      ]
     },
     "execution_count": 16,
     "metadata": {},
     "output_type": "execute_result"
    }
   ],
   "source": [
    "# Выводим первые строки датафрейма на экран\n",
    "degrees_df.head()"
   ]
  },
  {
   "cell_type": "code",
   "execution_count": 17,
   "id": "0fd52668-a2fc-4151-9008-9d8be6854c93",
   "metadata": {},
   "outputs": [
    {
     "name": "stdout",
     "output_type": "stream",
     "text": [
      "<class 'pandas.core.frame.DataFrame'>\n",
      "RangeIndex: 109610 entries, 0 to 109609\n",
      "Data columns (total 4 columns):\n",
      " #   Column       Non-Null Count   Dtype \n",
      "---  ------       --------------   ----- \n",
      " 0   id           109610 non-null  int64 \n",
      " 1   object_id    109610 non-null  object\n",
      " 2   degree_type  98389 non-null   object\n",
      " 3   subject      81298 non-null   object\n",
      "dtypes: int64(1), object(3)\n",
      "memory usage: 3.3+ MB\n"
     ]
    }
   ],
   "source": [
    "# Выводим информацию о датафрейме\n",
    "degrees_df.info()"
   ]
  },
  {
   "cell_type": "markdown",
   "id": "82c41275-2927-4d2e-aa00-8a6219c750c7",
   "metadata": {},
   "source": [
    "Датасет `company_and_rounds.csv` является самым объемным и содержит 22 столбца и 217773 строки, в которых представлена информация о компаниях и раундах финансирования. \n",
    "\n",
    "После первичного анализа данных можно сделать следующие выводы:\n",
    "- Названия столбцов в первом датафрейме некорректны, их необходимо привести к snake case, однако в датасете `company_and_rounds` есть столбцы с идентичным названием: `company  ID` и `company  id` - приведение их к единообразию приведет к тому, что они получат одинаковое название;\n",
    "- Типы данных в некоторых столбцах указаны неверно. Например, столбцы `founded  at`, `closed  at`, `funded  at` и `acquired_at` представлены типом `object`, но характер хранящихся в них данных предполагает использование типа данных свойственного датам. Также можно провести понижение разрядности для оптимизации использования памяти.\n",
    "- В большинстве столбцов содержатся пропущенные значения. Большой объем пропусков может привести к трудностям при анализе данных. "
   ]
  },
  {
   "cell_type": "markdown",
   "id": "c9136138-7e75-4c19-8f2e-0ff029bd2de7",
   "metadata": {},
   "source": [
    "Чтобы привести названия столбцов к snake_case, необходимо все заглавные символы сделать строчными, а между словами добавить подчёркивание _."
   ]
  },
  {
   "cell_type": "code",
   "execution_count": 20,
   "id": "0f67ac0b-7f97-42c5-8f82-be1398c2c2c7",
   "metadata": {},
   "outputs": [
    {
     "data": {
      "text/plain": [
       "Index(['company_id_1', 'name', 'category_code', 'status', 'founded_at',\n",
       "       'closed_at', 'domain', 'network_username', 'country_code',\n",
       "       'investment_rounds', 'funding_rounds', 'funding_total', 'milestones',\n",
       "       'funding_round_id', 'company_id_2', 'funded_at', 'funding_round_type',\n",
       "       'raised_amount', 'pre_money_valuation', 'participants',\n",
       "       'is_first_round', 'is_last_round'],\n",
       "      dtype='object')"
      ]
     },
     "execution_count": 20,
     "metadata": {},
     "output_type": "execute_result"
    }
   ],
   "source": [
    "company_and_rounds_df = company_and_rounds_df.rename(columns={'company  ID': 'company_id_1',\n",
    "                        'company  id': 'company_id_2'})\n",
    "company_and_rounds_df.columns = [x.lower().replace('  ', '_') for x in company_and_rounds_df.columns.values]\n",
    "company_and_rounds_df.columns"
   ]
  },
  {
   "cell_type": "markdown",
   "id": "30cd26e3-9c21-4293-8a50-999cb0df60b4",
   "metadata": {},
   "source": [
    "### 1.2. Смена типов и анализ пропусков"
   ]
  },
  {
   "cell_type": "markdown",
   "id": "ae1c282c-f741-4554-975c-85cfe80614d9",
   "metadata": {},
   "source": [
    "Для начала предстоит обработать типы данных в столбцах, содержащих значения даты и времени."
   ]
  },
  {
   "cell_type": "code",
   "execution_count": 23,
   "id": "bffccfd8-d3b6-4557-9d94-845cd26b6c19",
   "metadata": {},
   "outputs": [
    {
     "name": "stdout",
     "output_type": "stream",
     "text": [
      "company_id_1                  float64\n",
      "name                           object\n",
      "category_code                  object\n",
      "status                         object\n",
      "founded_at             datetime64[ns]\n",
      "closed_at              datetime64[ns]\n",
      "domain                         object\n",
      "network_username               object\n",
      "country_code                   object\n",
      "investment_rounds             float64\n",
      "funding_rounds                float64\n",
      "funding_total                 float64\n",
      "milestones                    float64\n",
      "funding_round_id              float64\n",
      "company_id_2                  float64\n",
      "funded_at              datetime64[ns]\n",
      "funding_round_type             object\n",
      "raised_amount                 float64\n",
      "pre_money_valuation           float64\n",
      "participants                  float64\n",
      "is_first_round                float64\n",
      "is_last_round                 float64\n",
      "dtype: object\n"
     ]
    }
   ],
   "source": [
    "# Меняем тип данных с помощью метода to_datetime()\n",
    "for column in ['founded_at', 'closed_at', 'funded_at']:\n",
    "    company_and_rounds_df[column] = pd.to_datetime(company_and_rounds_df[column]) \n",
    "print(company_and_rounds_df.dtypes) "
   ]
  },
  {
   "cell_type": "code",
   "execution_count": 24,
   "id": "5be482cc-5efb-46d9-82e2-8014736d2605",
   "metadata": {},
   "outputs": [
    {
     "name": "stdout",
     "output_type": "stream",
     "text": [
      "id                               int64\n",
      "acquiring_company_id             int64\n",
      "acquired_company_id              int64\n",
      "term_code                       object\n",
      "price_amount                     int64\n",
      "acquired_at             datetime64[ns]\n",
      "dtype: object\n"
     ]
    }
   ],
   "source": [
    "# Меняем тип данных в остальных датафреймах\n",
    "for column in ['acquired_at']:\n",
    "    acquisition_df[column] = pd.to_datetime(acquisition_df[column]) \n",
    "print(acquisition_df.dtypes)"
   ]
  },
  {
   "cell_type": "code",
   "execution_count": 25,
   "id": "ce354899-5c17-4404-b8b5-03b01060e419",
   "metadata": {},
   "outputs": [
    {
     "name": "stdout",
     "output_type": "stream",
     "text": [
      "id                       int64\n",
      "person_id                int64\n",
      "instituition            object\n",
      "graduated_at    datetime64[ns]\n",
      "dtype: object\n"
     ]
    }
   ],
   "source": [
    "for column in ['graduated_at']:\n",
    "    education_df[column] = pd.to_datetime(education_df[column]) \n",
    "print(education_df.dtypes)"
   ]
  },
  {
   "cell_type": "markdown",
   "id": "304cf9e7-2565-4ccc-a508-9c34482f4d8e",
   "metadata": {},
   "source": [
    "\n",
    "При первичном знакомстве было обнаружено большое количество пропусков в столбцах датафреймов. Узнаем абсолютное и относительное количество пропусков и сделаем вывод о полноте данных."
   ]
  },
  {
   "cell_type": "code",
   "execution_count": 27,
   "id": "fa8b9b38-f338-4f44-85d1-f10bf1cf527b",
   "metadata": {},
   "outputs": [
    {
     "data": {
      "text/plain": [
       "company_id_1           0.001387\n",
       "milestones             0.001387\n",
       "funding_total          0.001387\n",
       "investment_rounds      0.001387\n",
       "funding_rounds         0.001387\n",
       "status                 0.001387\n",
       "name                   0.001391\n",
       "domain                 0.324258\n",
       "category_code          0.339288\n",
       "founded_at             0.495091\n",
       "country_code           0.501286\n",
       "network_username       0.561316\n",
       "funding_round_id       0.756959\n",
       "participants           0.756959\n",
       "pre_money_valuation    0.756959\n",
       "raised_amount          0.756959\n",
       "is_last_round          0.756959\n",
       "company_id_2           0.756959\n",
       "is_first_round         0.756959\n",
       "funding_round_type     0.756959\n",
       "funded_at              0.758098\n",
       "closed_at              0.984162\n",
       "dtype: float64"
      ]
     },
     "execution_count": 27,
     "metadata": {},
     "output_type": "execute_result"
    }
   ],
   "source": [
    "company_and_rounds_df.isna().mean().sort_values()"
   ]
  },
  {
   "cell_type": "markdown",
   "id": "7499eeda-7171-42c6-b16d-c045eb814d9d",
   "metadata": {},
   "source": [
    "Доля пропущенных данных в отдельных столбцах достигает 98%. Больше половины столбцов имееют свыше 50% пропусков."
   ]
  },
  {
   "cell_type": "code",
   "execution_count": 29,
   "id": "85db2941-8993-42e4-955f-5c7ba0cd6bd4",
   "metadata": {},
   "outputs": [
    {
     "data": {
      "text/plain": [
       "id                      0.000000\n",
       "acquiring_company_id    0.000000\n",
       "acquired_company_id     0.000000\n",
       "price_amount            0.000000\n",
       "acquired_at             0.003083\n",
       "term_code               0.805358\n",
       "dtype: float64"
      ]
     },
     "execution_count": 29,
     "metadata": {},
     "output_type": "execute_result"
    }
   ],
   "source": [
    "acquisition_df.isna().mean().sort_values()"
   ]
  },
  {
   "cell_type": "markdown",
   "id": "7757182d-4164-4033-bed8-1f8ed56e65dd",
   "metadata": {},
   "source": [
    "В данном датафрейме большое количество пропусков (80%) имеет лишь один столбец - 'Варианты расчета'."
   ]
  },
  {
   "cell_type": "code",
   "execution_count": 31,
   "id": "07147bc3-87f5-4ed1-bf78-2693c12ef295",
   "metadata": {},
   "outputs": [
    {
     "data": {
      "text/plain": [
       "id              0.000000\n",
       "person_id       0.000000\n",
       "instituition    0.000502\n",
       "graduated_at    0.470359\n",
       "dtype: float64"
      ]
     },
     "execution_count": 31,
     "metadata": {},
     "output_type": "execute_result"
    }
   ],
   "source": [
    "education_df.isna().mean().sort_values()"
   ]
  },
  {
   "cell_type": "markdown",
   "id": "3f633e07-586a-42ab-8cb9-d47df65d6ced",
   "metadata": {},
   "source": [
    "Данные в представленном датафрейме полны за исключением последнего столбца (47% пропусков), хранящего информацию о дате получения образования."
   ]
  },
  {
   "cell_type": "code",
   "execution_count": 33,
   "id": "c3deea5e-3edd-4e8b-b00c-df8cb7efbe5a",
   "metadata": {},
   "outputs": [
    {
     "data": {
      "text/plain": [
       "id                  0.000000\n",
       "last_name           0.000018\n",
       "first_name          0.000040\n",
       "network_username    0.828560\n",
       "company_id          0.847315\n",
       "dtype: float64"
      ]
     },
     "execution_count": 33,
     "metadata": {},
     "output_type": "execute_result"
    }
   ],
   "source": [
    "people_df.isna().mean().sort_values()"
   ]
  },
  {
   "cell_type": "markdown",
   "id": "11218886-22b1-48e4-beb1-559a08f19117",
   "metadata": {},
   "source": [
    "Большое количество пропусков (свыше 80%) в столбцах, содежащих идентификатор компании и ник сотрудника в социальных сетях."
   ]
  },
  {
   "cell_type": "code",
   "execution_count": 35,
   "id": "8ae0df12-611a-415f-a7b4-961121298ee5",
   "metadata": {},
   "outputs": [
    {
     "data": {
      "text/plain": [
       "id             0.000000\n",
       "object_id      0.000000\n",
       "degree_type    0.102372\n",
       "subject        0.258298\n",
       "dtype: float64"
      ]
     },
     "execution_count": 35,
     "metadata": {},
     "output_type": "execute_result"
    }
   ],
   "source": [
    "degrees_df.isna().mean().sort_values()"
   ]
  },
  {
   "cell_type": "markdown",
   "id": "8b3d4d84-e622-4ba3-ab5d-2968e057128b",
   "metadata": {},
   "source": [
    "Значения количества пропусков в данном датафрейме сравнительно невелики и находятся в пределах 10-25%."
   ]
  },
  {
   "cell_type": "markdown",
   "id": "44a66df5-3c96-46ef-8e68-9e49bb41c3a2",
   "metadata": {},
   "source": [
    "Большое количество пропусков в данных может нести в себе сложности для анализа. Заменить такое большое количество пропусков будет некорректно, однако часть мы можем попробовать восполнить из аналогичных столбцов, а часть и вовсе может не пригодиться для достижения поставленных целей исследования."
   ]
  },
  {
   "cell_type": "markdown",
   "id": "04fd328a-b4df-4299-a2ba-517f334a2d6d",
   "metadata": {},
   "source": [
    "## 2. Предобработка данных, предварительное исследование"
   ]
  },
  {
   "cell_type": "markdown",
   "id": "f19334f5-586a-44dc-b326-d841fdfd066c",
   "metadata": {},
   "source": [
    "### 2.1. Раунды финансирования по годам"
   ]
  },
  {
   "cell_type": "markdown",
   "id": "a4c73200-d51a-4036-b989-553ebdf57d77",
   "metadata": {},
   "source": [
    "Создадим сводную таблицу по годам, в которой на основании столбца raised_amount для каждого года укажем:\n",
    "- типичный размер средств, выделяемый в рамках одного раунда;\n",
    "- общее количество раундов финансирования за этот год."
   ]
  },
  {
   "cell_type": "code",
   "execution_count": 41,
   "id": "f1a48f68-8a68-4689-a843-0c6e814e9f8a",
   "metadata": {},
   "outputs": [
    {
     "name": "stdout",
     "output_type": "stream",
     "text": [
      "      year  typical_raised_amount  total_rounds\n",
      "15  1999.0              2000000.0            76\n",
      "16  2000.0              4200000.0           125\n",
      "17  2001.0              3000000.0            96\n",
      "18  2002.0              4200000.0           116\n",
      "19  2003.0              3000000.0           159\n",
      "20  2004.0              5000000.0           291\n",
      "21  2005.0              5500000.0          1633\n",
      "22  2006.0              5000000.0          2436\n",
      "23  2007.0              3973320.0          3279\n",
      "24  2008.0              3110000.0          3774\n",
      "25  2009.0              2000000.0          4151\n",
      "26  2010.0              1602500.0          6221\n",
      "27  2011.0              1200000.0          9204\n",
      "28  2012.0              1000000.0          9970\n",
      "29  2013.0              1200000.0         11072\n"
     ]
    }
   ],
   "source": [
    "# Преобразуем столбец funded_at в формат datetime и выделим год\n",
    "company_and_rounds_df['funded_at'] = pd.to_datetime(company_and_rounds_df['funded_at'])\n",
    "company_and_rounds_df['year'] = company_and_rounds_df['funded_at'].dt.year\n",
    "\n",
    "# Сгруппируем данные по годам\n",
    "pivot_table = company_and_rounds_df.groupby('year').agg(\n",
    "    typical_raised_amount=('raised_amount', 'median'),  # Медиана суммы финансирования\n",
    "    total_rounds=('raised_amount', 'count')  # Количество раундов\n",
    ").reset_index()\n",
    "\n",
    "# Фильтруем только те годы, где было более 50 раундов финансирования\n",
    "pivot_table = pivot_table[pivot_table['total_rounds'] > 50]\n",
    "\n",
    "print(pivot_table)"
   ]
  },
  {
   "cell_type": "markdown",
   "id": "14e5d8b9-8e7b-40ad-9eff-81f9c46ebcbc",
   "metadata": {},
   "source": [
    "На основе получившейся таблицы построим график, который будет отражать динамику типичного размера средств, которые стартапы получали в рамках одного раунда финансирования."
   ]
  },
  {
   "cell_type": "code",
   "execution_count": 43,
   "id": "91235915-14ee-43a6-9f1b-d6aa9d9d8835",
   "metadata": {},
   "outputs": [
    {
     "data": {
      "image/png": "[encoded data removed]",
      "text/plain": [
       "<Figure size 1200x600 with 1 Axes>"
      ]
     },
     "metadata": {},
     "output_type": "display_data"
    }
   ],
   "source": [
    "# Построение графика\n",
    "sns.set_style(\"whitegrid\")\n",
    "\n",
    "plt.figure(figsize=(12, 6))\n",
    "sns.lineplot(data=pivot_table, x='year', y='typical_raised_amount')\n",
    "\n",
    "plt.xlabel(\"Год\")\n",
    "plt.ylabel(\"Размер финансирования\")\n",
    "plt.title(\"Динамика типичного размера финансирования стартапов\")\n",
    "plt.xticks(rotation=45)\n",
    "\n",
    "plt.show()"
   ]
  },
  {
   "cell_type": "markdown",
   "id": "4d435bd5-4ac6-45e1-9a80-c37e08df0a82",
   "metadata": {},
   "source": [
    "На основе полученных данных можно сделать следующие выводы:\n",
    "1. Максимальный типичный размер собранных в рамках одного раунда средств был зафиксирован в 2005 году;\n",
    "2. В 2013 году наблюдалась тенденция роста количества раундов и выделяемых в рамках каждого раунда средств. Более того, это первый год, начиная с 2005, в котором зафиксирована положительная динамика."
   ]
  },
  {
   "cell_type": "markdown",
   "id": "54087bcb-a077-40a5-b17d-55713856119c",
   "metadata": {},
   "source": [
    "### 2.2. Люди и их образование"
   ]
  },
  {
   "cell_type": "markdown",
   "id": "1f5b0b3c-7aca-4f95-a765-bb51cd2a5d26",
   "metadata": {},
   "source": [
    "Здесь необходимо ответить на вопрос: зависит ли полнота сведений о сотрудниках (например, об их образовании) от размера компаний?"
   ]
  },
  {
   "cell_type": "code",
   "execution_count": 47,
   "id": "f0d3a494-79f7-4428-aa70-d5f6cef323ba",
   "metadata": {},
   "outputs": [
    {
     "name": "stdout",
     "output_type": "stream",
     "text": [
      "size_group\n",
      "1         0.463051\n",
      "2-10      0.498834\n",
      "11-50     0.439512\n",
      "51-200    0.285165\n",
      "200+      0.311475\n",
      "Name: share_no_education, dtype: float64\n"
     ]
    },
    {
     "name": "stderr",
     "output_type": "stream",
     "text": [
      "C:\\Users\\Kate\\AppData\\Local\\Temp\\ipykernel_12440\\1371715086.py:18: FutureWarning: The default of observed=False is deprecated and will be changed to True in a future version of pandas. Pass observed=False to retain current behavior or observed=True to adopt the future default and silence this warning.\n",
      "  grouped_stats = company_stats.groupby('size_group')['share_no_education'].mean()\n"
     ]
    }
   ],
   "source": [
    "people_df['has_education_info'] = people_df['id'].isin(education_df['person_id'])\n",
    "\n",
    "# Подсчет количества сотрудников и их данных об образовании в каждой компании\n",
    "company_stats = people_df.groupby('company_id').agg(\n",
    "    total_employees=('id', 'count'),\n",
    "    employees_with_education=('has_education_info', 'sum')\n",
    ").reset_index()\n",
    "\n",
    "# Доля сотрудников без информации об образовании\n",
    "company_stats['share_no_education'] = 1 - (company_stats['employees_with_education'] / company_stats['total_employees'])\n",
    "\n",
    "# Определение групп по количеству сотрудников\n",
    "bins = [0, 2, 10, 50, 200, company_stats['total_employees'].max()]\n",
    "labels = ['1', '2-10', '11-50', '51-200', '200+']\n",
    "company_stats['size_group'] = pd.cut(company_stats['total_employees'], bins=bins, labels=labels, right=True)\n",
    "\n",
    "# Рассчитываем среднюю долю сотрудников без информации об образовании в каждой группе\n",
    "grouped_stats = company_stats.groupby('size_group')['share_no_education'].mean()\n",
    "\n",
    "print(grouped_stats)"
   ]
  },
  {
   "cell_type": "markdown",
   "id": "c8612c26-2391-4b9a-8308-8332caf483d2",
   "metadata": {},
   "source": [
    "Компании были разделены на маленькие (в их числе компании, состоящие из 1 сотрудника, и компании до 10 сотрудников), средние (до 50 сотрудников), крупные (до 200 сотрудников) и очень крупные (свыше двухсот сотрудников). Подробное деление направлено на выделение закономерности.\n",
    "\n",
    "На основании полученных данных можно сделать вывод о том, что наибольшую среднюю долю сотруников без информации об образовании имеют маленькие компании (до 50%). Чем крупнее компания, тем полнее данные об образовании."
   ]
  },
  {
   "cell_type": "markdown",
   "id": "45fe8992-0067-41dc-b6b8-cc471d36f1cc",
   "metadata": {},
   "source": [
    "Возможно присоединить к данным датафрейма `education_df` датафрейм `degrees_df`, однако для этого необходимо провести преобразование столбца `object_id`:"
   ]
  },
  {
   "cell_type": "code",
   "execution_count": 50,
   "id": "a244d53f-50a5-4bdc-93f6-2a9e07643ff5",
   "metadata": {},
   "outputs": [
    {
     "data": {
      "text/html": [
       "<div>\n",
       "<style scoped>\n",
       "    .dataframe tbody tr th:only-of-type {\n",
       "        vertical-align: middle;\n",
       "    }\n",
       "\n",
       "    .dataframe tbody tr th {\n",
       "        vertical-align: top;\n",
       "    }\n",
       "\n",
       "    .dataframe thead th {\n",
       "        text-align: right;\n",
       "    }\n",
       "</style>\n",
       "<table border=\"1\" class=\"dataframe\">\n",
       "  <thead>\n",
       "    <tr style=\"text-align: right;\">\n",
       "      <th></th>\n",
       "      <th>id</th>\n",
       "      <th>object_id</th>\n",
       "      <th>degree_type</th>\n",
       "      <th>subject</th>\n",
       "    </tr>\n",
       "  </thead>\n",
       "  <tbody>\n",
       "    <tr>\n",
       "      <th>0</th>\n",
       "      <td>1</td>\n",
       "      <td>6117</td>\n",
       "      <td>MBA</td>\n",
       "      <td>NaN</td>\n",
       "    </tr>\n",
       "    <tr>\n",
       "      <th>1</th>\n",
       "      <td>2</td>\n",
       "      <td>6136</td>\n",
       "      <td>BA</td>\n",
       "      <td>English, French</td>\n",
       "    </tr>\n",
       "    <tr>\n",
       "      <th>2</th>\n",
       "      <td>3</td>\n",
       "      <td>6136</td>\n",
       "      <td>MS</td>\n",
       "      <td>Mass Communication</td>\n",
       "    </tr>\n",
       "    <tr>\n",
       "      <th>3</th>\n",
       "      <td>4</td>\n",
       "      <td>6005</td>\n",
       "      <td>MS</td>\n",
       "      <td>Internet Technology</td>\n",
       "    </tr>\n",
       "    <tr>\n",
       "      <th>4</th>\n",
       "      <td>5</td>\n",
       "      <td>5832</td>\n",
       "      <td>BCS</td>\n",
       "      <td>Computer Science, Psychology</td>\n",
       "    </tr>\n",
       "    <tr>\n",
       "      <th>...</th>\n",
       "      <td>...</td>\n",
       "      <td>...</td>\n",
       "      <td>...</td>\n",
       "      <td>...</td>\n",
       "    </tr>\n",
       "    <tr>\n",
       "      <th>109605</th>\n",
       "      <td>109606</td>\n",
       "      <td>268589</td>\n",
       "      <td>CPA</td>\n",
       "      <td>NaN</td>\n",
       "    </tr>\n",
       "    <tr>\n",
       "      <th>109606</th>\n",
       "      <td>109607</td>\n",
       "      <td>268527</td>\n",
       "      <td>MS &amp; BS</td>\n",
       "      <td>Engineering</td>\n",
       "    </tr>\n",
       "    <tr>\n",
       "      <th>109607</th>\n",
       "      <td>109608</td>\n",
       "      <td>268527</td>\n",
       "      <td>PhD</td>\n",
       "      <td>Engineering</td>\n",
       "    </tr>\n",
       "    <tr>\n",
       "      <th>109608</th>\n",
       "      <td>109609</td>\n",
       "      <td>268528</td>\n",
       "      <td>B.S.</td>\n",
       "      <td>Electrical Engineering</td>\n",
       "    </tr>\n",
       "    <tr>\n",
       "      <th>109609</th>\n",
       "      <td>109610</td>\n",
       "      <td>268528</td>\n",
       "      <td>J.D.</td>\n",
       "      <td>NaN</td>\n",
       "    </tr>\n",
       "  </tbody>\n",
       "</table>\n",
       "<p>109610 rows × 4 columns</p>\n",
       "</div>"
      ],
      "text/plain": [
       "            id object_id degree_type                       subject\n",
       "0            1      6117         MBA                           NaN\n",
       "1            2      6136          BA               English, French\n",
       "2            3      6136          MS            Mass Communication\n",
       "3            4      6005          MS           Internet Technology\n",
       "4            5      5832         BCS  Computer Science, Psychology\n",
       "...        ...       ...         ...                           ...\n",
       "109605  109606    268589         CPA                           NaN\n",
       "109606  109607    268527     MS & BS                   Engineering\n",
       "109607  109608    268527         PhD                   Engineering\n",
       "109608  109609    268528        B.S.        Electrical Engineering\n",
       "109609  109610    268528        J.D.                           NaN\n",
       "\n",
       "[109610 rows x 4 columns]"
      ]
     },
     "metadata": {},
     "output_type": "display_data"
    }
   ],
   "source": [
    "# Удаляем \"p:\"\n",
    "degrees_df['object_id'] = degrees_df['object_id'].str.replace(\"p:\", \"\", regex=False)\n",
    "display(degrees_df)"
   ]
  },
  {
   "cell_type": "markdown",
   "id": "9ab5d581-0761-427b-9b26-16476167ce05",
   "metadata": {},
   "source": [
    "Теперь можно провести присоединение, используя метод merge()"
   ]
  },
  {
   "cell_type": "markdown",
   "id": "1b6c2450-583f-4a0a-a2e2-751419826701",
   "metadata": {},
   "source": [
    "### 2.3. Объединять или не объединять — вот в чём вопрос"
   ]
  },
  {
   "cell_type": "markdown",
   "id": "30f6de6c-b61b-41d1-8a68-f265e98dcbb8",
   "metadata": {},
   "source": [
    "Необходимо установить, подходит ли для объединения данных столбец network_username, который встречается в датасетах `company_and_rounds` и `people`. Для этого проверим столбцы на повторяющиеся значения:"
   ]
  },
  {
   "cell_type": "code",
   "execution_count": 54,
   "id": "0240256c-5dd5-47f3-8349-3f6f138458e8",
   "metadata": {},
   "outputs": [
    {
     "name": "stdout",
     "output_type": "stream",
     "text": [
      "Уникальные значения network_username в company_and_rounds_df: 79571\n",
      "\n",
      "Уникальные значения network_username в people_df: 38421\n",
      "\n",
      "Количество совпадающих network_username: 2200\n",
      "Доля совпадений: 0.05726035241144166\n"
     ]
    }
   ],
   "source": [
    "# Проверяем количество уникальных значений network_username\n",
    "print(\"Уникальные значения network_username в company_and_rounds_df:\", company_and_rounds_df['network_username'].nunique())\n",
    "print(\"\\nУникальные значения network_username в people_df:\", people_df['network_username'].nunique())\n",
    "\n",
    "# Проверяем количество повторяющихся значений в столбцах датафреймов\n",
    "common_usernames = set(company_and_rounds_df['network_username']).intersection(set(people_df['network_username']))\n",
    "print(\"\\nКоличество совпадающих network_username:\", len(common_usernames))\n",
    "\n",
    "# Доля совпадающих значений\n",
    "overlap_ratio = len(common_usernames) / people_df['network_username'].nunique()\n",
    "print(\"Доля совпадений:\", overlap_ratio)\n"
   ]
  },
  {
   "cell_type": "markdown",
   "id": "519ce71b-7164-407b-86fe-9313503faafc",
   "metadata": {},
   "source": [
    "Поскольку доля совпадающих значений очень мала (ниже 6%), использовать данные столбцы для объединения не стоит."
   ]
  },
  {
   "cell_type": "markdown",
   "id": "e24de7c2-5f33-491c-bc5c-cdccc1d0ef4b",
   "metadata": {},
   "source": [
    "### 2.4. Проблемный датасет и причина возникновения пропусков"
   ]
  },
  {
   "cell_type": "markdown",
   "id": "2a4cce79-7c44-47d9-a667-51892cf542d6",
   "metadata": {},
   "source": [
    "Еще раз обратимся к датасету `company_and_rounds.csv`:"
   ]
  },
  {
   "cell_type": "code",
   "execution_count": 58,
   "id": "4250add4-acc4-4196-b6bb-798a0cef2869",
   "metadata": {},
   "outputs": [
    {
     "data": {
      "text/html": [
       "<div>\n",
       "<style scoped>\n",
       "    .dataframe tbody tr th:only-of-type {\n",
       "        vertical-align: middle;\n",
       "    }\n",
       "\n",
       "    .dataframe tbody tr th {\n",
       "        vertical-align: top;\n",
       "    }\n",
       "\n",
       "    .dataframe thead th {\n",
       "        text-align: right;\n",
       "    }\n",
       "</style>\n",
       "<table border=\"1\" class=\"dataframe\">\n",
       "  <thead>\n",
       "    <tr style=\"text-align: right;\">\n",
       "      <th></th>\n",
       "      <th>company_id_1</th>\n",
       "      <th>name</th>\n",
       "      <th>category_code</th>\n",
       "      <th>status</th>\n",
       "      <th>founded_at</th>\n",
       "      <th>closed_at</th>\n",
       "      <th>domain</th>\n",
       "      <th>network_username</th>\n",
       "      <th>country_code</th>\n",
       "      <th>investment_rounds</th>\n",
       "      <th>funding_rounds</th>\n",
       "      <th>...</th>\n",
       "      <th>milestones</th>\n",
       "      <th>funding_round_id</th>\n",
       "      <th>company_id_2</th>\n",
       "      <th>funded_at</th>\n",
       "      <th>funding_round_type</th>\n",
       "      <th>raised_amount</th>\n",
       "      <th>pre_money_valuation</th>\n",
       "      <th>participants</th>\n",
       "      <th>is_first_round</th>\n",
       "      <th>is_last_round</th>\n",
       "      <th>year</th>\n",
       "    </tr>\n",
       "  </thead>\n",
       "  <tbody>\n",
       "    <tr>\n",
       "      <th>0</th>\n",
       "      <td>1.0</td>\n",
       "      <td>Wetpaint</td>\n",
       "      <td>web</td>\n",
       "      <td>operating</td>\n",
       "      <td>2005-10-17</td>\n",
       "      <td>NaT</td>\n",
       "      <td>wetpaint-inc.com</td>\n",
       "      <td>BachelrWetpaint</td>\n",
       "      <td>USA</td>\n",
       "      <td>0.0</td>\n",
       "      <td>3.0</td>\n",
       "      <td>...</td>\n",
       "      <td>5.0</td>\n",
       "      <td>888.0</td>\n",
       "      <td>1.0</td>\n",
       "      <td>2005-10-01</td>\n",
       "      <td>series-a</td>\n",
       "      <td>5250000.0</td>\n",
       "      <td>0.0</td>\n",
       "      <td>2.0</td>\n",
       "      <td>0.0</td>\n",
       "      <td>1.0</td>\n",
       "      <td>2005.0</td>\n",
       "    </tr>\n",
       "    <tr>\n",
       "      <th>1</th>\n",
       "      <td>1.0</td>\n",
       "      <td>Wetpaint</td>\n",
       "      <td>web</td>\n",
       "      <td>operating</td>\n",
       "      <td>2005-10-17</td>\n",
       "      <td>NaT</td>\n",
       "      <td>wetpaint-inc.com</td>\n",
       "      <td>BachelrWetpaint</td>\n",
       "      <td>USA</td>\n",
       "      <td>0.0</td>\n",
       "      <td>3.0</td>\n",
       "      <td>...</td>\n",
       "      <td>5.0</td>\n",
       "      <td>889.0</td>\n",
       "      <td>1.0</td>\n",
       "      <td>2007-01-01</td>\n",
       "      <td>series-b</td>\n",
       "      <td>9500000.0</td>\n",
       "      <td>0.0</td>\n",
       "      <td>3.0</td>\n",
       "      <td>0.0</td>\n",
       "      <td>0.0</td>\n",
       "      <td>2007.0</td>\n",
       "    </tr>\n",
       "    <tr>\n",
       "      <th>2</th>\n",
       "      <td>1.0</td>\n",
       "      <td>Wetpaint</td>\n",
       "      <td>web</td>\n",
       "      <td>operating</td>\n",
       "      <td>2005-10-17</td>\n",
       "      <td>NaT</td>\n",
       "      <td>wetpaint-inc.com</td>\n",
       "      <td>BachelrWetpaint</td>\n",
       "      <td>USA</td>\n",
       "      <td>0.0</td>\n",
       "      <td>3.0</td>\n",
       "      <td>...</td>\n",
       "      <td>5.0</td>\n",
       "      <td>2312.0</td>\n",
       "      <td>1.0</td>\n",
       "      <td>2008-05-19</td>\n",
       "      <td>series-c+</td>\n",
       "      <td>25000000.0</td>\n",
       "      <td>0.0</td>\n",
       "      <td>4.0</td>\n",
       "      <td>1.0</td>\n",
       "      <td>0.0</td>\n",
       "      <td>2008.0</td>\n",
       "    </tr>\n",
       "    <tr>\n",
       "      <th>3</th>\n",
       "      <td>10.0</td>\n",
       "      <td>Flektor</td>\n",
       "      <td>games_video</td>\n",
       "      <td>acquired</td>\n",
       "      <td>NaT</td>\n",
       "      <td>NaT</td>\n",
       "      <td>flektor.com</td>\n",
       "      <td>NaN</td>\n",
       "      <td>USA</td>\n",
       "      <td>0.0</td>\n",
       "      <td>0.0</td>\n",
       "      <td>...</td>\n",
       "      <td>0.0</td>\n",
       "      <td>NaN</td>\n",
       "      <td>NaN</td>\n",
       "      <td>NaT</td>\n",
       "      <td>NaN</td>\n",
       "      <td>NaN</td>\n",
       "      <td>NaN</td>\n",
       "      <td>NaN</td>\n",
       "      <td>NaN</td>\n",
       "      <td>NaN</td>\n",
       "      <td>NaN</td>\n",
       "    </tr>\n",
       "    <tr>\n",
       "      <th>4</th>\n",
       "      <td>100.0</td>\n",
       "      <td>There</td>\n",
       "      <td>games_video</td>\n",
       "      <td>acquired</td>\n",
       "      <td>NaT</td>\n",
       "      <td>NaT</td>\n",
       "      <td>there.com</td>\n",
       "      <td>NaN</td>\n",
       "      <td>USA</td>\n",
       "      <td>0.0</td>\n",
       "      <td>0.0</td>\n",
       "      <td>...</td>\n",
       "      <td>4.0</td>\n",
       "      <td>NaN</td>\n",
       "      <td>NaN</td>\n",
       "      <td>NaT</td>\n",
       "      <td>NaN</td>\n",
       "      <td>NaN</td>\n",
       "      <td>NaN</td>\n",
       "      <td>NaN</td>\n",
       "      <td>NaN</td>\n",
       "      <td>NaN</td>\n",
       "      <td>NaN</td>\n",
       "    </tr>\n",
       "    <tr>\n",
       "      <th>...</th>\n",
       "      <td>...</td>\n",
       "      <td>...</td>\n",
       "      <td>...</td>\n",
       "      <td>...</td>\n",
       "      <td>...</td>\n",
       "      <td>...</td>\n",
       "      <td>...</td>\n",
       "      <td>...</td>\n",
       "      <td>...</td>\n",
       "      <td>...</td>\n",
       "      <td>...</td>\n",
       "      <td>...</td>\n",
       "      <td>...</td>\n",
       "      <td>...</td>\n",
       "      <td>...</td>\n",
       "      <td>...</td>\n",
       "      <td>...</td>\n",
       "      <td>...</td>\n",
       "      <td>...</td>\n",
       "      <td>...</td>\n",
       "      <td>...</td>\n",
       "      <td>...</td>\n",
       "      <td>...</td>\n",
       "    </tr>\n",
       "    <tr>\n",
       "      <th>217769</th>\n",
       "      <td>NaN</td>\n",
       "      <td>NaN</td>\n",
       "      <td>NaN</td>\n",
       "      <td>NaN</td>\n",
       "      <td>NaT</td>\n",
       "      <td>NaT</td>\n",
       "      <td>NaN</td>\n",
       "      <td>NaN</td>\n",
       "      <td>NaN</td>\n",
       "      <td>NaN</td>\n",
       "      <td>NaN</td>\n",
       "      <td>...</td>\n",
       "      <td>NaN</td>\n",
       "      <td>56454.0</td>\n",
       "      <td>282847.0</td>\n",
       "      <td>2011-01-31</td>\n",
       "      <td>other</td>\n",
       "      <td>5500000.0</td>\n",
       "      <td>0.0</td>\n",
       "      <td>0.0</td>\n",
       "      <td>1.0</td>\n",
       "      <td>1.0</td>\n",
       "      <td>2011.0</td>\n",
       "    </tr>\n",
       "    <tr>\n",
       "      <th>217770</th>\n",
       "      <td>NaN</td>\n",
       "      <td>NaN</td>\n",
       "      <td>NaN</td>\n",
       "      <td>NaN</td>\n",
       "      <td>NaT</td>\n",
       "      <td>NaT</td>\n",
       "      <td>NaN</td>\n",
       "      <td>NaN</td>\n",
       "      <td>NaN</td>\n",
       "      <td>NaN</td>\n",
       "      <td>NaN</td>\n",
       "      <td>...</td>\n",
       "      <td>NaN</td>\n",
       "      <td>56542.0</td>\n",
       "      <td>55477.0</td>\n",
       "      <td>2011-01-13</td>\n",
       "      <td>venture</td>\n",
       "      <td>10633300.0</td>\n",
       "      <td>0.0</td>\n",
       "      <td>0.0</td>\n",
       "      <td>0.0</td>\n",
       "      <td>1.0</td>\n",
       "      <td>2011.0</td>\n",
       "    </tr>\n",
       "    <tr>\n",
       "      <th>217771</th>\n",
       "      <td>NaN</td>\n",
       "      <td>NaN</td>\n",
       "      <td>NaN</td>\n",
       "      <td>NaN</td>\n",
       "      <td>NaT</td>\n",
       "      <td>NaT</td>\n",
       "      <td>NaN</td>\n",
       "      <td>NaN</td>\n",
       "      <td>NaN</td>\n",
       "      <td>NaN</td>\n",
       "      <td>NaN</td>\n",
       "      <td>...</td>\n",
       "      <td>NaN</td>\n",
       "      <td>56543.0</td>\n",
       "      <td>55477.0</td>\n",
       "      <td>2012-05-31</td>\n",
       "      <td>venture</td>\n",
       "      <td>2125720.0</td>\n",
       "      <td>0.0</td>\n",
       "      <td>0.0</td>\n",
       "      <td>1.0</td>\n",
       "      <td>0.0</td>\n",
       "      <td>2012.0</td>\n",
       "    </tr>\n",
       "    <tr>\n",
       "      <th>217772</th>\n",
       "      <td>NaN</td>\n",
       "      <td>NaN</td>\n",
       "      <td>NaN</td>\n",
       "      <td>NaN</td>\n",
       "      <td>NaT</td>\n",
       "      <td>NaT</td>\n",
       "      <td>NaN</td>\n",
       "      <td>NaN</td>\n",
       "      <td>NaN</td>\n",
       "      <td>NaN</td>\n",
       "      <td>NaN</td>\n",
       "      <td>...</td>\n",
       "      <td>NaN</td>\n",
       "      <td>56928.0</td>\n",
       "      <td>283492.0</td>\n",
       "      <td>2013-12-03</td>\n",
       "      <td>venture</td>\n",
       "      <td>3602480.0</td>\n",
       "      <td>0.0</td>\n",
       "      <td>5.0</td>\n",
       "      <td>1.0</td>\n",
       "      <td>1.0</td>\n",
       "      <td>2013.0</td>\n",
       "    </tr>\n",
       "    <tr>\n",
       "      <th>217773</th>\n",
       "      <td>NaN</td>\n",
       "      <td>NaN</td>\n",
       "      <td>NaN</td>\n",
       "      <td>NaN</td>\n",
       "      <td>NaT</td>\n",
       "      <td>NaT</td>\n",
       "      <td>NaN</td>\n",
       "      <td>NaN</td>\n",
       "      <td>NaN</td>\n",
       "      <td>NaN</td>\n",
       "      <td>NaN</td>\n",
       "      <td>...</td>\n",
       "      <td>NaN</td>\n",
       "      <td>57063.0</td>\n",
       "      <td>284191.0</td>\n",
       "      <td>2013-12-04</td>\n",
       "      <td>venture</td>\n",
       "      <td>7000000.0</td>\n",
       "      <td>0.0</td>\n",
       "      <td>4.0</td>\n",
       "      <td>1.0</td>\n",
       "      <td>1.0</td>\n",
       "      <td>2013.0</td>\n",
       "    </tr>\n",
       "  </tbody>\n",
       "</table>\n",
       "<p>217774 rows × 23 columns</p>\n",
       "</div>"
      ],
      "text/plain": [
       "        company_id_1      name category_code     status founded_at closed_at  \\\n",
       "0                1.0  Wetpaint           web  operating 2005-10-17       NaT   \n",
       "1                1.0  Wetpaint           web  operating 2005-10-17       NaT   \n",
       "2                1.0  Wetpaint           web  operating 2005-10-17       NaT   \n",
       "3               10.0   Flektor   games_video   acquired        NaT       NaT   \n",
       "4              100.0     There   games_video   acquired        NaT       NaT   \n",
       "...              ...       ...           ...        ...        ...       ...   \n",
       "217769           NaN       NaN           NaN        NaN        NaT       NaT   \n",
       "217770           NaN       NaN           NaN        NaN        NaT       NaT   \n",
       "217771           NaN       NaN           NaN        NaN        NaT       NaT   \n",
       "217772           NaN       NaN           NaN        NaN        NaT       NaT   \n",
       "217773           NaN       NaN           NaN        NaN        NaT       NaT   \n",
       "\n",
       "                  domain network_username country_code  investment_rounds  \\\n",
       "0       wetpaint-inc.com  BachelrWetpaint          USA                0.0   \n",
       "1       wetpaint-inc.com  BachelrWetpaint          USA                0.0   \n",
       "2       wetpaint-inc.com  BachelrWetpaint          USA                0.0   \n",
       "3            flektor.com              NaN          USA                0.0   \n",
       "4              there.com              NaN          USA                0.0   \n",
       "...                  ...              ...          ...                ...   \n",
       "217769               NaN              NaN          NaN                NaN   \n",
       "217770               NaN              NaN          NaN                NaN   \n",
       "217771               NaN              NaN          NaN                NaN   \n",
       "217772               NaN              NaN          NaN                NaN   \n",
       "217773               NaN              NaN          NaN                NaN   \n",
       "\n",
       "        funding_rounds  ...  milestones  funding_round_id  company_id_2  \\\n",
       "0                  3.0  ...         5.0             888.0           1.0   \n",
       "1                  3.0  ...         5.0             889.0           1.0   \n",
       "2                  3.0  ...         5.0            2312.0           1.0   \n",
       "3                  0.0  ...         0.0               NaN           NaN   \n",
       "4                  0.0  ...         4.0               NaN           NaN   \n",
       "...                ...  ...         ...               ...           ...   \n",
       "217769             NaN  ...         NaN           56454.0      282847.0   \n",
       "217770             NaN  ...         NaN           56542.0       55477.0   \n",
       "217771             NaN  ...         NaN           56543.0       55477.0   \n",
       "217772             NaN  ...         NaN           56928.0      283492.0   \n",
       "217773             NaN  ...         NaN           57063.0      284191.0   \n",
       "\n",
       "        funded_at funding_round_type raised_amount  pre_money_valuation  \\\n",
       "0      2005-10-01           series-a     5250000.0                  0.0   \n",
       "1      2007-01-01           series-b     9500000.0                  0.0   \n",
       "2      2008-05-19          series-c+    25000000.0                  0.0   \n",
       "3             NaT                NaN           NaN                  NaN   \n",
       "4             NaT                NaN           NaN                  NaN   \n",
       "...           ...                ...           ...                  ...   \n",
       "217769 2011-01-31              other     5500000.0                  0.0   \n",
       "217770 2011-01-13            venture    10633300.0                  0.0   \n",
       "217771 2012-05-31            venture     2125720.0                  0.0   \n",
       "217772 2013-12-03            venture     3602480.0                  0.0   \n",
       "217773 2013-12-04            venture     7000000.0                  0.0   \n",
       "\n",
       "        participants  is_first_round  is_last_round    year  \n",
       "0                2.0             0.0            1.0  2005.0  \n",
       "1                3.0             0.0            0.0  2007.0  \n",
       "2                4.0             1.0            0.0  2008.0  \n",
       "3                NaN             NaN            NaN     NaN  \n",
       "4                NaN             NaN            NaN     NaN  \n",
       "...              ...             ...            ...     ...  \n",
       "217769           0.0             1.0            1.0  2011.0  \n",
       "217770           0.0             0.0            1.0  2011.0  \n",
       "217771           0.0             1.0            0.0  2012.0  \n",
       "217772           5.0             1.0            1.0  2013.0  \n",
       "217773           4.0             1.0            1.0  2013.0  \n",
       "\n",
       "[217774 rows x 23 columns]"
      ]
     },
     "metadata": {},
     "output_type": "display_data"
    }
   ],
   "source": [
    "display(company_and_rounds_df)"
   ]
  },
  {
   "cell_type": "markdown",
   "id": "171c5613-8bd1-41e7-878e-4eff94dcda88",
   "metadata": {},
   "source": [
    "Сложность для анализа в нем представляет большое количество пропусков.\n",
    "На данном этапе необхоимо:\n",
    "\n",
    "- Привести данные в вид, который позволит в дальнейшем проводить анализ в разрезе отдельных компаний. Обратите внимание на структуру датасета, порядок и названия столбцов, проанализируйте значения.\n",
    "- Максимальным образом сохраняя данные, подготовить их так, чтобы удобно было отобрать компании по параметрам и рассчитать показатели из расчёта на одну компанию без промежуточных агрегаций.\n",
    "\n",
    "Известно, что в данном датасете дублируются столбцы, содержащие идентификатор компании. Ранее мы увидели, что количество пропусков у столбцов начиная с `company_id_2`, примерно равное. На основании этого мы можем сделать вывод, что две таблицы ранее были объединены по данному идентификатору, и для удобства дальнейшей работы их следует разделить."
   ]
  },
  {
   "cell_type": "code",
   "execution_count": 60,
   "id": "42afcc21-2a72-4399-bb21-7b93a930d6dc",
   "metadata": {},
   "outputs": [
    {
     "data": {
      "text/html": [
       "<div>\n",
       "<style scoped>\n",
       "    .dataframe tbody tr th:only-of-type {\n",
       "        vertical-align: middle;\n",
       "    }\n",
       "\n",
       "    .dataframe tbody tr th {\n",
       "        vertical-align: top;\n",
       "    }\n",
       "\n",
       "    .dataframe thead th {\n",
       "        text-align: right;\n",
       "    }\n",
       "</style>\n",
       "<table border=\"1\" class=\"dataframe\">\n",
       "  <thead>\n",
       "    <tr style=\"text-align: right;\">\n",
       "      <th></th>\n",
       "      <th>company_id_1</th>\n",
       "      <th>raised_amount</th>\n",
       "      <th>funding_round_id</th>\n",
       "      <th>funded_at</th>\n",
       "      <th>funding_round_type</th>\n",
       "      <th>pre_money_valuation</th>\n",
       "      <th>participants</th>\n",
       "      <th>is_first_round</th>\n",
       "      <th>is_last_round</th>\n",
       "      <th>funded_year</th>\n",
       "    </tr>\n",
       "  </thead>\n",
       "  <tbody>\n",
       "    <tr>\n",
       "      <th>3</th>\n",
       "      <td>10.0</td>\n",
       "      <td>NaN</td>\n",
       "      <td>NaN</td>\n",
       "      <td>NaT</td>\n",
       "      <td>NaN</td>\n",
       "      <td>NaN</td>\n",
       "      <td>NaN</td>\n",
       "      <td>NaN</td>\n",
       "      <td>NaN</td>\n",
       "      <td>NaN</td>\n",
       "    </tr>\n",
       "    <tr>\n",
       "      <th>4</th>\n",
       "      <td>100.0</td>\n",
       "      <td>NaN</td>\n",
       "      <td>NaN</td>\n",
       "      <td>NaT</td>\n",
       "      <td>NaN</td>\n",
       "      <td>NaN</td>\n",
       "      <td>NaN</td>\n",
       "      <td>NaN</td>\n",
       "      <td>NaN</td>\n",
       "      <td>NaN</td>\n",
       "    </tr>\n",
       "    <tr>\n",
       "      <th>5</th>\n",
       "      <td>10000.0</td>\n",
       "      <td>NaN</td>\n",
       "      <td>NaN</td>\n",
       "      <td>NaT</td>\n",
       "      <td>NaN</td>\n",
       "      <td>NaN</td>\n",
       "      <td>NaN</td>\n",
       "      <td>NaN</td>\n",
       "      <td>NaN</td>\n",
       "      <td>NaN</td>\n",
       "    </tr>\n",
       "    <tr>\n",
       "      <th>6</th>\n",
       "      <td>10001.0</td>\n",
       "      <td>NaN</td>\n",
       "      <td>NaN</td>\n",
       "      <td>NaT</td>\n",
       "      <td>NaN</td>\n",
       "      <td>NaN</td>\n",
       "      <td>NaN</td>\n",
       "      <td>NaN</td>\n",
       "      <td>NaN</td>\n",
       "      <td>NaN</td>\n",
       "    </tr>\n",
       "    <tr>\n",
       "      <th>7</th>\n",
       "      <td>10002.0</td>\n",
       "      <td>NaN</td>\n",
       "      <td>NaN</td>\n",
       "      <td>NaT</td>\n",
       "      <td>NaN</td>\n",
       "      <td>NaN</td>\n",
       "      <td>NaN</td>\n",
       "      <td>NaN</td>\n",
       "      <td>NaN</td>\n",
       "      <td>NaN</td>\n",
       "    </tr>\n",
       "  </tbody>\n",
       "</table>\n",
       "</div>"
      ],
      "text/plain": [
       "   company_id_1  raised_amount  funding_round_id funded_at funding_round_type  \\\n",
       "3          10.0            NaN               NaN       NaT                NaN   \n",
       "4         100.0            NaN               NaN       NaT                NaN   \n",
       "5       10000.0            NaN               NaN       NaT                NaN   \n",
       "6       10001.0            NaN               NaN       NaT                NaN   \n",
       "7       10002.0            NaN               NaN       NaT                NaN   \n",
       "\n",
       "   pre_money_valuation  participants  is_first_round  is_last_round  \\\n",
       "3                  NaN           NaN             NaN            NaN   \n",
       "4                  NaN           NaN             NaN            NaN   \n",
       "5                  NaN           NaN             NaN            NaN   \n",
       "6                  NaN           NaN             NaN            NaN   \n",
       "7                  NaN           NaN             NaN            NaN   \n",
       "\n",
       "   funded_year  \n",
       "3          NaN  \n",
       "4          NaN  \n",
       "5          NaN  \n",
       "6          NaN  \n",
       "7          NaN  "
      ]
     },
     "metadata": {},
     "output_type": "display_data"
    }
   ],
   "source": [
    "#Делаем отдельную таблицу по компаниям\n",
    "df_company = company_and_rounds_df[['company_id_1', 'name', 'category_code', 'status', \n",
    "                             'founded_at', 'closed_at', 'domain', \n",
    "                             'network_username', 'country_code', \n",
    "                             'investment_rounds', 'funding_rounds', \n",
    "                            'funding_total', 'milestones']]\n",
    "\n",
    "company_and_rounds_df['funded_year'] = pd.to_datetime(company_and_rounds_df['funded_at']).dt.year\n",
    "\n",
    "#Убираем дубли записей\n",
    "df_company=company_and_rounds_df.drop_duplicates(subset=['company_id_1', 'name', 'category_code', 'status', \n",
    "                             'founded_at', 'closed_at', 'domain', \n",
    "                             'network_username', 'country_code', 'investment_rounds', 'funding_rounds', \n",
    "                            'funding_total', 'milestones'], keep='first')\n",
    "#Делаем отдельную таблицу по раундам инвестирования\n",
    "df_rounds = company_and_rounds_df[['company_id_1', 'raised_amount', 'funding_round_id', \n",
    "                            'funded_at', 'funding_round_type', 'pre_money_valuation', \n",
    "                            'participants', 'is_first_round', \n",
    "                            'is_last_round', 'funded_year']]\n",
    "#Смоторим пропуски\n",
    "display(df_rounds[df_rounds['funding_round_type'].isna()].head()) \n",
    "\n",
    "#Убираем пропуски по колонке\n",
    "df_rounds=df_rounds.dropna(subset=['funding_round_type'])\n"
   ]
  },
  {
   "cell_type": "code",
   "execution_count": 61,
   "id": "df20721f-b32c-44c5-80be-01cb69b8352c",
   "metadata": {},
   "outputs": [
    {
     "data": {
      "text/html": [
       "<div>\n",
       "<style scoped>\n",
       "    .dataframe tbody tr th:only-of-type {\n",
       "        vertical-align: middle;\n",
       "    }\n",
       "\n",
       "    .dataframe tbody tr th {\n",
       "        vertical-align: top;\n",
       "    }\n",
       "\n",
       "    .dataframe thead th {\n",
       "        text-align: right;\n",
       "    }\n",
       "</style>\n",
       "<table border=\"1\" class=\"dataframe\">\n",
       "  <thead>\n",
       "    <tr style=\"text-align: right;\">\n",
       "      <th></th>\n",
       "      <th>company_id_1</th>\n",
       "      <th>name</th>\n",
       "      <th>category_code</th>\n",
       "      <th>status</th>\n",
       "      <th>founded_at</th>\n",
       "      <th>closed_at</th>\n",
       "      <th>domain</th>\n",
       "      <th>network_username</th>\n",
       "      <th>country_code</th>\n",
       "      <th>investment_rounds</th>\n",
       "      <th>funding_rounds</th>\n",
       "      <th>...</th>\n",
       "      <th>funding_round_id</th>\n",
       "      <th>company_id_2</th>\n",
       "      <th>funded_at</th>\n",
       "      <th>funding_round_type</th>\n",
       "      <th>raised_amount</th>\n",
       "      <th>pre_money_valuation</th>\n",
       "      <th>participants</th>\n",
       "      <th>is_first_round</th>\n",
       "      <th>is_last_round</th>\n",
       "      <th>year</th>\n",
       "      <th>funded_year</th>\n",
       "    </tr>\n",
       "  </thead>\n",
       "  <tbody>\n",
       "    <tr>\n",
       "      <th>0</th>\n",
       "      <td>1.0</td>\n",
       "      <td>Wetpaint</td>\n",
       "      <td>web</td>\n",
       "      <td>operating</td>\n",
       "      <td>2005-10-17</td>\n",
       "      <td>NaT</td>\n",
       "      <td>wetpaint-inc.com</td>\n",
       "      <td>BachelrWetpaint</td>\n",
       "      <td>USA</td>\n",
       "      <td>0.0</td>\n",
       "      <td>3.0</td>\n",
       "      <td>...</td>\n",
       "      <td>888.0</td>\n",
       "      <td>1.0</td>\n",
       "      <td>2005-10-01</td>\n",
       "      <td>series-a</td>\n",
       "      <td>5250000.0</td>\n",
       "      <td>0.0</td>\n",
       "      <td>2.0</td>\n",
       "      <td>0.0</td>\n",
       "      <td>1.0</td>\n",
       "      <td>2005.0</td>\n",
       "      <td>2005.0</td>\n",
       "    </tr>\n",
       "    <tr>\n",
       "      <th>3</th>\n",
       "      <td>10.0</td>\n",
       "      <td>Flektor</td>\n",
       "      <td>games_video</td>\n",
       "      <td>acquired</td>\n",
       "      <td>NaT</td>\n",
       "      <td>NaT</td>\n",
       "      <td>flektor.com</td>\n",
       "      <td>NaN</td>\n",
       "      <td>USA</td>\n",
       "      <td>0.0</td>\n",
       "      <td>0.0</td>\n",
       "      <td>...</td>\n",
       "      <td>NaN</td>\n",
       "      <td>NaN</td>\n",
       "      <td>NaT</td>\n",
       "      <td>NaN</td>\n",
       "      <td>NaN</td>\n",
       "      <td>NaN</td>\n",
       "      <td>NaN</td>\n",
       "      <td>NaN</td>\n",
       "      <td>NaN</td>\n",
       "      <td>NaN</td>\n",
       "      <td>NaN</td>\n",
       "    </tr>\n",
       "    <tr>\n",
       "      <th>4</th>\n",
       "      <td>100.0</td>\n",
       "      <td>There</td>\n",
       "      <td>games_video</td>\n",
       "      <td>acquired</td>\n",
       "      <td>NaT</td>\n",
       "      <td>NaT</td>\n",
       "      <td>there.com</td>\n",
       "      <td>NaN</td>\n",
       "      <td>USA</td>\n",
       "      <td>0.0</td>\n",
       "      <td>0.0</td>\n",
       "      <td>...</td>\n",
       "      <td>NaN</td>\n",
       "      <td>NaN</td>\n",
       "      <td>NaT</td>\n",
       "      <td>NaN</td>\n",
       "      <td>NaN</td>\n",
       "      <td>NaN</td>\n",
       "      <td>NaN</td>\n",
       "      <td>NaN</td>\n",
       "      <td>NaN</td>\n",
       "      <td>NaN</td>\n",
       "      <td>NaN</td>\n",
       "    </tr>\n",
       "    <tr>\n",
       "      <th>5</th>\n",
       "      <td>10000.0</td>\n",
       "      <td>MYWEBBO</td>\n",
       "      <td>network_hosting</td>\n",
       "      <td>operating</td>\n",
       "      <td>2008-07-26</td>\n",
       "      <td>NaT</td>\n",
       "      <td>mywebbo.com</td>\n",
       "      <td>NaN</td>\n",
       "      <td>NaN</td>\n",
       "      <td>0.0</td>\n",
       "      <td>0.0</td>\n",
       "      <td>...</td>\n",
       "      <td>NaN</td>\n",
       "      <td>NaN</td>\n",
       "      <td>NaT</td>\n",
       "      <td>NaN</td>\n",
       "      <td>NaN</td>\n",
       "      <td>NaN</td>\n",
       "      <td>NaN</td>\n",
       "      <td>NaN</td>\n",
       "      <td>NaN</td>\n",
       "      <td>NaN</td>\n",
       "      <td>NaN</td>\n",
       "    </tr>\n",
       "    <tr>\n",
       "      <th>6</th>\n",
       "      <td>10001.0</td>\n",
       "      <td>THE Movie Streamer</td>\n",
       "      <td>games_video</td>\n",
       "      <td>operating</td>\n",
       "      <td>2008-07-26</td>\n",
       "      <td>NaT</td>\n",
       "      <td>themoviestreamer.com</td>\n",
       "      <td>NaN</td>\n",
       "      <td>NaN</td>\n",
       "      <td>0.0</td>\n",
       "      <td>0.0</td>\n",
       "      <td>...</td>\n",
       "      <td>NaN</td>\n",
       "      <td>NaN</td>\n",
       "      <td>NaT</td>\n",
       "      <td>NaN</td>\n",
       "      <td>NaN</td>\n",
       "      <td>NaN</td>\n",
       "      <td>NaN</td>\n",
       "      <td>NaN</td>\n",
       "      <td>NaN</td>\n",
       "      <td>NaN</td>\n",
       "      <td>NaN</td>\n",
       "    </tr>\n",
       "    <tr>\n",
       "      <th>...</th>\n",
       "      <td>...</td>\n",
       "      <td>...</td>\n",
       "      <td>...</td>\n",
       "      <td>...</td>\n",
       "      <td>...</td>\n",
       "      <td>...</td>\n",
       "      <td>...</td>\n",
       "      <td>...</td>\n",
       "      <td>...</td>\n",
       "      <td>...</td>\n",
       "      <td>...</td>\n",
       "      <td>...</td>\n",
       "      <td>...</td>\n",
       "      <td>...</td>\n",
       "      <td>...</td>\n",
       "      <td>...</td>\n",
       "      <td>...</td>\n",
       "      <td>...</td>\n",
       "      <td>...</td>\n",
       "      <td>...</td>\n",
       "      <td>...</td>\n",
       "      <td>...</td>\n",
       "      <td>...</td>\n",
       "    </tr>\n",
       "    <tr>\n",
       "      <th>217463</th>\n",
       "      <td>3429.0</td>\n",
       "      <td>Zend Technologies</td>\n",
       "      <td>software</td>\n",
       "      <td>operating</td>\n",
       "      <td>1999-01-01</td>\n",
       "      <td>NaT</td>\n",
       "      <td>zend.com</td>\n",
       "      <td>networkzend</td>\n",
       "      <td>USA</td>\n",
       "      <td>0.0</td>\n",
       "      <td>4.0</td>\n",
       "      <td>...</td>\n",
       "      <td>2318.0</td>\n",
       "      <td>3429.0</td>\n",
       "      <td>2006-08-28</td>\n",
       "      <td>series-c+</td>\n",
       "      <td>20000000.0</td>\n",
       "      <td>0.0</td>\n",
       "      <td>7.0</td>\n",
       "      <td>0.0</td>\n",
       "      <td>0.0</td>\n",
       "      <td>2006.0</td>\n",
       "      <td>2006.0</td>\n",
       "    </tr>\n",
       "    <tr>\n",
       "      <th>217467</th>\n",
       "      <td>7748.0</td>\n",
       "      <td>Flowgram</td>\n",
       "      <td>web</td>\n",
       "      <td>closed</td>\n",
       "      <td>2007-06-01</td>\n",
       "      <td>2008-06-11</td>\n",
       "      <td>flowgram.com</td>\n",
       "      <td>network</td>\n",
       "      <td>USA</td>\n",
       "      <td>0.0</td>\n",
       "      <td>1.0</td>\n",
       "      <td>...</td>\n",
       "      <td>2836.0</td>\n",
       "      <td>7748.0</td>\n",
       "      <td>2008-01-31</td>\n",
       "      <td>angel</td>\n",
       "      <td>1300000.0</td>\n",
       "      <td>0.0</td>\n",
       "      <td>8.0</td>\n",
       "      <td>1.0</td>\n",
       "      <td>1.0</td>\n",
       "      <td>2008.0</td>\n",
       "      <td>2008.0</td>\n",
       "    </tr>\n",
       "    <tr>\n",
       "      <th>217468</th>\n",
       "      <td>174536.0</td>\n",
       "      <td>Pphotonet</td>\n",
       "      <td>games_video</td>\n",
       "      <td>operating</td>\n",
       "      <td>2012-05-01</td>\n",
       "      <td>NaT</td>\n",
       "      <td>pPhotonet.co</td>\n",
       "      <td>pPhotonet</td>\n",
       "      <td>NaN</td>\n",
       "      <td>0.0</td>\n",
       "      <td>0.0</td>\n",
       "      <td>...</td>\n",
       "      <td>NaN</td>\n",
       "      <td>NaN</td>\n",
       "      <td>NaT</td>\n",
       "      <td>NaN</td>\n",
       "      <td>NaN</td>\n",
       "      <td>NaN</td>\n",
       "      <td>NaN</td>\n",
       "      <td>NaN</td>\n",
       "      <td>NaN</td>\n",
       "      <td>NaN</td>\n",
       "      <td>NaN</td>\n",
       "    </tr>\n",
       "    <tr>\n",
       "      <th>217469</th>\n",
       "      <td>43233.0</td>\n",
       "      <td>Photonet</td>\n",
       "      <td>photo_video</td>\n",
       "      <td>acquired</td>\n",
       "      <td>2010-03-01</td>\n",
       "      <td>NaT</td>\n",
       "      <td>Photonet.com</td>\n",
       "      <td>Photonet</td>\n",
       "      <td>USA</td>\n",
       "      <td>0.0</td>\n",
       "      <td>3.0</td>\n",
       "      <td>...</td>\n",
       "      <td>12687.0</td>\n",
       "      <td>43233.0</td>\n",
       "      <td>2010-03-05</td>\n",
       "      <td>angel</td>\n",
       "      <td>500000.0</td>\n",
       "      <td>0.0</td>\n",
       "      <td>2.0</td>\n",
       "      <td>0.0</td>\n",
       "      <td>1.0</td>\n",
       "      <td>2010.0</td>\n",
       "      <td>2010.0</td>\n",
       "    </tr>\n",
       "    <tr>\n",
       "      <th>217472</th>\n",
       "      <td>NaN</td>\n",
       "      <td>NaN</td>\n",
       "      <td>NaN</td>\n",
       "      <td>NaN</td>\n",
       "      <td>NaT</td>\n",
       "      <td>NaT</td>\n",
       "      <td>NaN</td>\n",
       "      <td>NaN</td>\n",
       "      <td>NaN</td>\n",
       "      <td>NaN</td>\n",
       "      <td>NaN</td>\n",
       "      <td>...</td>\n",
       "      <td>457.0</td>\n",
       "      <td>1267.0</td>\n",
       "      <td>2005-01-01</td>\n",
       "      <td>series-a</td>\n",
       "      <td>48000000.0</td>\n",
       "      <td>0.0</td>\n",
       "      <td>2.0</td>\n",
       "      <td>1.0</td>\n",
       "      <td>1.0</td>\n",
       "      <td>2005.0</td>\n",
       "      <td>2005.0</td>\n",
       "    </tr>\n",
       "  </tbody>\n",
       "</table>\n",
       "<p>196554 rows × 24 columns</p>\n",
       "</div>"
      ],
      "text/plain": [
       "        company_id_1                name    category_code     status  \\\n",
       "0                1.0            Wetpaint              web  operating   \n",
       "3               10.0             Flektor      games_video   acquired   \n",
       "4              100.0               There      games_video   acquired   \n",
       "5            10000.0             MYWEBBO  network_hosting  operating   \n",
       "6            10001.0  THE Movie Streamer      games_video  operating   \n",
       "...              ...                 ...              ...        ...   \n",
       "217463        3429.0   Zend Technologies         software  operating   \n",
       "217467        7748.0            Flowgram              web     closed   \n",
       "217468      174536.0           Pphotonet      games_video  operating   \n",
       "217469       43233.0            Photonet      photo_video   acquired   \n",
       "217472           NaN                 NaN              NaN        NaN   \n",
       "\n",
       "       founded_at  closed_at                domain network_username  \\\n",
       "0      2005-10-17        NaT      wetpaint-inc.com  BachelrWetpaint   \n",
       "3             NaT        NaT           flektor.com              NaN   \n",
       "4             NaT        NaT             there.com              NaN   \n",
       "5      2008-07-26        NaT           mywebbo.com              NaN   \n",
       "6      2008-07-26        NaT  themoviestreamer.com              NaN   \n",
       "...           ...        ...                   ...              ...   \n",
       "217463 1999-01-01        NaT              zend.com      networkzend   \n",
       "217467 2007-06-01 2008-06-11          flowgram.com          network   \n",
       "217468 2012-05-01        NaT          pPhotonet.co        pPhotonet   \n",
       "217469 2010-03-01        NaT          Photonet.com         Photonet   \n",
       "217472        NaT        NaT                   NaN              NaN   \n",
       "\n",
       "       country_code  investment_rounds  funding_rounds  ...  funding_round_id  \\\n",
       "0               USA                0.0             3.0  ...             888.0   \n",
       "3               USA                0.0             0.0  ...               NaN   \n",
       "4               USA                0.0             0.0  ...               NaN   \n",
       "5               NaN                0.0             0.0  ...               NaN   \n",
       "6               NaN                0.0             0.0  ...               NaN   \n",
       "...             ...                ...             ...  ...               ...   \n",
       "217463          USA                0.0             4.0  ...            2318.0   \n",
       "217467          USA                0.0             1.0  ...            2836.0   \n",
       "217468          NaN                0.0             0.0  ...               NaN   \n",
       "217469          USA                0.0             3.0  ...           12687.0   \n",
       "217472          NaN                NaN             NaN  ...             457.0   \n",
       "\n",
       "        company_id_2  funded_at  funding_round_type raised_amount  \\\n",
       "0                1.0 2005-10-01            series-a     5250000.0   \n",
       "3                NaN        NaT                 NaN           NaN   \n",
       "4                NaN        NaT                 NaN           NaN   \n",
       "5                NaN        NaT                 NaN           NaN   \n",
       "6                NaN        NaT                 NaN           NaN   \n",
       "...              ...        ...                 ...           ...   \n",
       "217463        3429.0 2006-08-28           series-c+    20000000.0   \n",
       "217467        7748.0 2008-01-31               angel     1300000.0   \n",
       "217468           NaN        NaT                 NaN           NaN   \n",
       "217469       43233.0 2010-03-05               angel      500000.0   \n",
       "217472        1267.0 2005-01-01            series-a    48000000.0   \n",
       "\n",
       "       pre_money_valuation  participants  is_first_round  is_last_round  \\\n",
       "0                      0.0           2.0             0.0            1.0   \n",
       "3                      NaN           NaN             NaN            NaN   \n",
       "4                      NaN           NaN             NaN            NaN   \n",
       "5                      NaN           NaN             NaN            NaN   \n",
       "6                      NaN           NaN             NaN            NaN   \n",
       "...                    ...           ...             ...            ...   \n",
       "217463                 0.0           7.0             0.0            0.0   \n",
       "217467                 0.0           8.0             1.0            1.0   \n",
       "217468                 NaN           NaN             NaN            NaN   \n",
       "217469                 0.0           2.0             0.0            1.0   \n",
       "217472                 0.0           2.0             1.0            1.0   \n",
       "\n",
       "          year  funded_year  \n",
       "0       2005.0       2005.0  \n",
       "3          NaN          NaN  \n",
       "4          NaN          NaN  \n",
       "5          NaN          NaN  \n",
       "6          NaN          NaN  \n",
       "...        ...          ...  \n",
       "217463  2006.0       2006.0  \n",
       "217467  2008.0       2008.0  \n",
       "217468     NaN          NaN  \n",
       "217469  2010.0       2010.0  \n",
       "217472  2005.0       2005.0  \n",
       "\n",
       "[196554 rows x 24 columns]"
      ]
     },
     "metadata": {},
     "output_type": "display_data"
    }
   ],
   "source": [
    "#Таблица по компаниям\n",
    "display(df_company)"
   ]
  },
  {
   "cell_type": "code",
   "execution_count": 62,
   "id": "33a46751-1364-455f-8057-a435d1e71e54",
   "metadata": {},
   "outputs": [
    {
     "data": {
      "text/html": [
       "<div>\n",
       "<style scoped>\n",
       "    .dataframe tbody tr th:only-of-type {\n",
       "        vertical-align: middle;\n",
       "    }\n",
       "\n",
       "    .dataframe tbody tr th {\n",
       "        vertical-align: top;\n",
       "    }\n",
       "\n",
       "    .dataframe thead th {\n",
       "        text-align: right;\n",
       "    }\n",
       "</style>\n",
       "<table border=\"1\" class=\"dataframe\">\n",
       "  <thead>\n",
       "    <tr style=\"text-align: right;\">\n",
       "      <th></th>\n",
       "      <th>company_id_1</th>\n",
       "      <th>raised_amount</th>\n",
       "      <th>funding_round_id</th>\n",
       "      <th>funded_at</th>\n",
       "      <th>funding_round_type</th>\n",
       "      <th>pre_money_valuation</th>\n",
       "      <th>participants</th>\n",
       "      <th>is_first_round</th>\n",
       "      <th>is_last_round</th>\n",
       "      <th>funded_year</th>\n",
       "    </tr>\n",
       "  </thead>\n",
       "  <tbody>\n",
       "    <tr>\n",
       "      <th>0</th>\n",
       "      <td>1.0</td>\n",
       "      <td>5250000.0</td>\n",
       "      <td>888.0</td>\n",
       "      <td>2005-10-01</td>\n",
       "      <td>series-a</td>\n",
       "      <td>0.0</td>\n",
       "      <td>2.0</td>\n",
       "      <td>0.0</td>\n",
       "      <td>1.0</td>\n",
       "      <td>2005.0</td>\n",
       "    </tr>\n",
       "    <tr>\n",
       "      <th>1</th>\n",
       "      <td>1.0</td>\n",
       "      <td>9500000.0</td>\n",
       "      <td>889.0</td>\n",
       "      <td>2007-01-01</td>\n",
       "      <td>series-b</td>\n",
       "      <td>0.0</td>\n",
       "      <td>3.0</td>\n",
       "      <td>0.0</td>\n",
       "      <td>0.0</td>\n",
       "      <td>2007.0</td>\n",
       "    </tr>\n",
       "    <tr>\n",
       "      <th>2</th>\n",
       "      <td>1.0</td>\n",
       "      <td>25000000.0</td>\n",
       "      <td>2312.0</td>\n",
       "      <td>2008-05-19</td>\n",
       "      <td>series-c+</td>\n",
       "      <td>0.0</td>\n",
       "      <td>4.0</td>\n",
       "      <td>1.0</td>\n",
       "      <td>0.0</td>\n",
       "      <td>2008.0</td>\n",
       "    </tr>\n",
       "    <tr>\n",
       "      <th>15</th>\n",
       "      <td>1001.0</td>\n",
       "      <td>5000000.0</td>\n",
       "      <td>1644.0</td>\n",
       "      <td>2008-02-26</td>\n",
       "      <td>series-a</td>\n",
       "      <td>0.0</td>\n",
       "      <td>3.0</td>\n",
       "      <td>1.0</td>\n",
       "      <td>1.0</td>\n",
       "      <td>2008.0</td>\n",
       "    </tr>\n",
       "    <tr>\n",
       "      <th>20</th>\n",
       "      <td>10014.0</td>\n",
       "      <td>0.0</td>\n",
       "      <td>6682.0</td>\n",
       "      <td>2008-09-01</td>\n",
       "      <td>angel</td>\n",
       "      <td>0.0</td>\n",
       "      <td>1.0</td>\n",
       "      <td>1.0</td>\n",
       "      <td>1.0</td>\n",
       "      <td>2008.0</td>\n",
       "    </tr>\n",
       "    <tr>\n",
       "      <th>...</th>\n",
       "      <td>...</td>\n",
       "      <td>...</td>\n",
       "      <td>...</td>\n",
       "      <td>...</td>\n",
       "      <td>...</td>\n",
       "      <td>...</td>\n",
       "      <td>...</td>\n",
       "      <td>...</td>\n",
       "      <td>...</td>\n",
       "      <td>...</td>\n",
       "    </tr>\n",
       "    <tr>\n",
       "      <th>217769</th>\n",
       "      <td>NaN</td>\n",
       "      <td>5500000.0</td>\n",
       "      <td>56454.0</td>\n",
       "      <td>2011-01-31</td>\n",
       "      <td>other</td>\n",
       "      <td>0.0</td>\n",
       "      <td>0.0</td>\n",
       "      <td>1.0</td>\n",
       "      <td>1.0</td>\n",
       "      <td>2011.0</td>\n",
       "    </tr>\n",
       "    <tr>\n",
       "      <th>217770</th>\n",
       "      <td>NaN</td>\n",
       "      <td>10633300.0</td>\n",
       "      <td>56542.0</td>\n",
       "      <td>2011-01-13</td>\n",
       "      <td>venture</td>\n",
       "      <td>0.0</td>\n",
       "      <td>0.0</td>\n",
       "      <td>0.0</td>\n",
       "      <td>1.0</td>\n",
       "      <td>2011.0</td>\n",
       "    </tr>\n",
       "    <tr>\n",
       "      <th>217771</th>\n",
       "      <td>NaN</td>\n",
       "      <td>2125720.0</td>\n",
       "      <td>56543.0</td>\n",
       "      <td>2012-05-31</td>\n",
       "      <td>venture</td>\n",
       "      <td>0.0</td>\n",
       "      <td>0.0</td>\n",
       "      <td>1.0</td>\n",
       "      <td>0.0</td>\n",
       "      <td>2012.0</td>\n",
       "    </tr>\n",
       "    <tr>\n",
       "      <th>217772</th>\n",
       "      <td>NaN</td>\n",
       "      <td>3602480.0</td>\n",
       "      <td>56928.0</td>\n",
       "      <td>2013-12-03</td>\n",
       "      <td>venture</td>\n",
       "      <td>0.0</td>\n",
       "      <td>5.0</td>\n",
       "      <td>1.0</td>\n",
       "      <td>1.0</td>\n",
       "      <td>2013.0</td>\n",
       "    </tr>\n",
       "    <tr>\n",
       "      <th>217773</th>\n",
       "      <td>NaN</td>\n",
       "      <td>7000000.0</td>\n",
       "      <td>57063.0</td>\n",
       "      <td>2013-12-04</td>\n",
       "      <td>venture</td>\n",
       "      <td>0.0</td>\n",
       "      <td>4.0</td>\n",
       "      <td>1.0</td>\n",
       "      <td>1.0</td>\n",
       "      <td>2013.0</td>\n",
       "    </tr>\n",
       "  </tbody>\n",
       "</table>\n",
       "<p>52928 rows × 10 columns</p>\n",
       "</div>"
      ],
      "text/plain": [
       "        company_id_1  raised_amount  funding_round_id  funded_at  \\\n",
       "0                1.0      5250000.0             888.0 2005-10-01   \n",
       "1                1.0      9500000.0             889.0 2007-01-01   \n",
       "2                1.0     25000000.0            2312.0 2008-05-19   \n",
       "15            1001.0      5000000.0            1644.0 2008-02-26   \n",
       "20           10014.0            0.0            6682.0 2008-09-01   \n",
       "...              ...            ...               ...        ...   \n",
       "217769           NaN      5500000.0           56454.0 2011-01-31   \n",
       "217770           NaN     10633300.0           56542.0 2011-01-13   \n",
       "217771           NaN      2125720.0           56543.0 2012-05-31   \n",
       "217772           NaN      3602480.0           56928.0 2013-12-03   \n",
       "217773           NaN      7000000.0           57063.0 2013-12-04   \n",
       "\n",
       "       funding_round_type  pre_money_valuation  participants  is_first_round  \\\n",
       "0                series-a                  0.0           2.0             0.0   \n",
       "1                series-b                  0.0           3.0             0.0   \n",
       "2               series-c+                  0.0           4.0             1.0   \n",
       "15               series-a                  0.0           3.0             1.0   \n",
       "20                  angel                  0.0           1.0             1.0   \n",
       "...                   ...                  ...           ...             ...   \n",
       "217769              other                  0.0           0.0             1.0   \n",
       "217770            venture                  0.0           0.0             0.0   \n",
       "217771            venture                  0.0           0.0             1.0   \n",
       "217772            venture                  0.0           5.0             1.0   \n",
       "217773            venture                  0.0           4.0             1.0   \n",
       "\n",
       "        is_last_round  funded_year  \n",
       "0                 1.0       2005.0  \n",
       "1                 0.0       2007.0  \n",
       "2                 0.0       2008.0  \n",
       "15                1.0       2008.0  \n",
       "20                1.0       2008.0  \n",
       "...               ...          ...  \n",
       "217769            1.0       2011.0  \n",
       "217770            1.0       2011.0  \n",
       "217771            0.0       2012.0  \n",
       "217772            1.0       2013.0  \n",
       "217773            1.0       2013.0  \n",
       "\n",
       "[52928 rows x 10 columns]"
      ]
     },
     "metadata": {},
     "output_type": "display_data"
    }
   ],
   "source": [
    "#Таблица по раундам инвестирования\n",
    "display(df_rounds)"
   ]
  },
  {
   "cell_type": "markdown",
   "id": "bd8e226b-4356-4d08-9aa0-9f2f32d84c6f",
   "metadata": {},
   "source": [
    "Теперь таблицы по компаниям и раундам инвестирования оформлены и могут быть использованы для анализа."
   ]
  },
  {
   "cell_type": "markdown",
   "id": "3be8fa33-22c7-4360-867c-d6d88e60f191",
   "metadata": {},
   "source": [
    "## 3. Исследовательский анализ объединённых таблиц"
   ]
  },
  {
   "cell_type": "markdown",
   "id": "082b47d1-fc6b-431c-aa7e-21cf59b85d5e",
   "metadata": {},
   "source": [
    "### 3.1. Объединение данных"
   ]
  },
  {
   "cell_type": "markdown",
   "id": "326d3e11-b145-4376-bb67-efefc1bd2edf",
   "metadata": {},
   "source": [
    "Из полученного набора данных компании, которые меняли или готовы менять владельцев. Получение инвестиций или финансирования может означать потенциальный интерес к покупке или продаже компании."
   ]
  },
  {
   "cell_type": "code",
   "execution_count": 67,
   "id": "2407a219-7a42-4105-9f79-dfe7e459b29b",
   "metadata": {},
   "outputs": [
    {
     "data": {
      "text/html": [
       "<div>\n",
       "<style scoped>\n",
       "    .dataframe tbody tr th:only-of-type {\n",
       "        vertical-align: middle;\n",
       "    }\n",
       "\n",
       "    .dataframe tbody tr th {\n",
       "        vertical-align: top;\n",
       "    }\n",
       "\n",
       "    .dataframe thead th {\n",
       "        text-align: right;\n",
       "    }\n",
       "</style>\n",
       "<table border=\"1\" class=\"dataframe\">\n",
       "  <thead>\n",
       "    <tr style=\"text-align: right;\">\n",
       "      <th></th>\n",
       "      <th>company_id_1</th>\n",
       "      <th>name</th>\n",
       "      <th>category_code</th>\n",
       "      <th>status</th>\n",
       "      <th>founded_at</th>\n",
       "      <th>closed_at</th>\n",
       "      <th>domain</th>\n",
       "      <th>network_username</th>\n",
       "      <th>country_code</th>\n",
       "      <th>investment_rounds</th>\n",
       "      <th>funding_rounds</th>\n",
       "      <th>...</th>\n",
       "      <th>funding_round_id</th>\n",
       "      <th>company_id_2</th>\n",
       "      <th>funded_at</th>\n",
       "      <th>funding_round_type</th>\n",
       "      <th>raised_amount</th>\n",
       "      <th>pre_money_valuation</th>\n",
       "      <th>participants</th>\n",
       "      <th>is_first_round</th>\n",
       "      <th>is_last_round</th>\n",
       "      <th>year</th>\n",
       "      <th>funded_year</th>\n",
       "    </tr>\n",
       "  </thead>\n",
       "  <tbody>\n",
       "    <tr>\n",
       "      <th>0</th>\n",
       "      <td>1.0</td>\n",
       "      <td>Wetpaint</td>\n",
       "      <td>web</td>\n",
       "      <td>operating</td>\n",
       "      <td>2005-10-17</td>\n",
       "      <td>NaT</td>\n",
       "      <td>wetpaint-inc.com</td>\n",
       "      <td>BachelrWetpaint</td>\n",
       "      <td>USA</td>\n",
       "      <td>0.0</td>\n",
       "      <td>3.0</td>\n",
       "      <td>...</td>\n",
       "      <td>888.0</td>\n",
       "      <td>1.0</td>\n",
       "      <td>2005-10-01</td>\n",
       "      <td>series-a</td>\n",
       "      <td>5250000.0</td>\n",
       "      <td>0.0</td>\n",
       "      <td>2.0</td>\n",
       "      <td>0.0</td>\n",
       "      <td>1.0</td>\n",
       "      <td>2005.0</td>\n",
       "      <td>2005.0</td>\n",
       "    </tr>\n",
       "    <tr>\n",
       "      <th>3</th>\n",
       "      <td>10.0</td>\n",
       "      <td>Flektor</td>\n",
       "      <td>games_video</td>\n",
       "      <td>acquired</td>\n",
       "      <td>NaT</td>\n",
       "      <td>NaT</td>\n",
       "      <td>flektor.com</td>\n",
       "      <td>NaN</td>\n",
       "      <td>USA</td>\n",
       "      <td>0.0</td>\n",
       "      <td>0.0</td>\n",
       "      <td>...</td>\n",
       "      <td>NaN</td>\n",
       "      <td>NaN</td>\n",
       "      <td>NaT</td>\n",
       "      <td>NaN</td>\n",
       "      <td>NaN</td>\n",
       "      <td>NaN</td>\n",
       "      <td>NaN</td>\n",
       "      <td>NaN</td>\n",
       "      <td>NaN</td>\n",
       "      <td>NaN</td>\n",
       "      <td>NaN</td>\n",
       "    </tr>\n",
       "    <tr>\n",
       "      <th>4</th>\n",
       "      <td>100.0</td>\n",
       "      <td>There</td>\n",
       "      <td>games_video</td>\n",
       "      <td>acquired</td>\n",
       "      <td>NaT</td>\n",
       "      <td>NaT</td>\n",
       "      <td>there.com</td>\n",
       "      <td>NaN</td>\n",
       "      <td>USA</td>\n",
       "      <td>0.0</td>\n",
       "      <td>0.0</td>\n",
       "      <td>...</td>\n",
       "      <td>NaN</td>\n",
       "      <td>NaN</td>\n",
       "      <td>NaT</td>\n",
       "      <td>NaN</td>\n",
       "      <td>NaN</td>\n",
       "      <td>NaN</td>\n",
       "      <td>NaN</td>\n",
       "      <td>NaN</td>\n",
       "      <td>NaN</td>\n",
       "      <td>NaN</td>\n",
       "      <td>NaN</td>\n",
       "    </tr>\n",
       "    <tr>\n",
       "      <th>15</th>\n",
       "      <td>1001.0</td>\n",
       "      <td>FriendFeed</td>\n",
       "      <td>web</td>\n",
       "      <td>acquired</td>\n",
       "      <td>2007-10-01</td>\n",
       "      <td>NaT</td>\n",
       "      <td>friendfeed.com</td>\n",
       "      <td>friendfeed</td>\n",
       "      <td>USA</td>\n",
       "      <td>0.0</td>\n",
       "      <td>1.0</td>\n",
       "      <td>...</td>\n",
       "      <td>1644.0</td>\n",
       "      <td>1001.0</td>\n",
       "      <td>2008-02-26</td>\n",
       "      <td>series-a</td>\n",
       "      <td>5000000.0</td>\n",
       "      <td>0.0</td>\n",
       "      <td>3.0</td>\n",
       "      <td>1.0</td>\n",
       "      <td>1.0</td>\n",
       "      <td>2008.0</td>\n",
       "      <td>2008.0</td>\n",
       "    </tr>\n",
       "    <tr>\n",
       "      <th>20</th>\n",
       "      <td>10014.0</td>\n",
       "      <td>Mobclix</td>\n",
       "      <td>mobile</td>\n",
       "      <td>acquired</td>\n",
       "      <td>2008-03-01</td>\n",
       "      <td>NaT</td>\n",
       "      <td>mobclix.com</td>\n",
       "      <td>mobclix</td>\n",
       "      <td>USA</td>\n",
       "      <td>0.0</td>\n",
       "      <td>1.0</td>\n",
       "      <td>...</td>\n",
       "      <td>6682.0</td>\n",
       "      <td>10014.0</td>\n",
       "      <td>2008-09-01</td>\n",
       "      <td>angel</td>\n",
       "      <td>0.0</td>\n",
       "      <td>0.0</td>\n",
       "      <td>1.0</td>\n",
       "      <td>1.0</td>\n",
       "      <td>1.0</td>\n",
       "      <td>2008.0</td>\n",
       "      <td>2008.0</td>\n",
       "    </tr>\n",
       "    <tr>\n",
       "      <th>...</th>\n",
       "      <td>...</td>\n",
       "      <td>...</td>\n",
       "      <td>...</td>\n",
       "      <td>...</td>\n",
       "      <td>...</td>\n",
       "      <td>...</td>\n",
       "      <td>...</td>\n",
       "      <td>...</td>\n",
       "      <td>...</td>\n",
       "      <td>...</td>\n",
       "      <td>...</td>\n",
       "      <td>...</td>\n",
       "      <td>...</td>\n",
       "      <td>...</td>\n",
       "      <td>...</td>\n",
       "      <td>...</td>\n",
       "      <td>...</td>\n",
       "      <td>...</td>\n",
       "      <td>...</td>\n",
       "      <td>...</td>\n",
       "      <td>...</td>\n",
       "      <td>...</td>\n",
       "      <td>...</td>\n",
       "    </tr>\n",
       "    <tr>\n",
       "      <th>217458</th>\n",
       "      <td>1344.0</td>\n",
       "      <td>Vobile</td>\n",
       "      <td>web</td>\n",
       "      <td>operating</td>\n",
       "      <td>2005-01-01</td>\n",
       "      <td>NaT</td>\n",
       "      <td>vobileinc.com</td>\n",
       "      <td>networkmobile</td>\n",
       "      <td>USA</td>\n",
       "      <td>0.0</td>\n",
       "      <td>1.0</td>\n",
       "      <td>...</td>\n",
       "      <td>960.0</td>\n",
       "      <td>1344.0</td>\n",
       "      <td>2007-11-01</td>\n",
       "      <td>series-a</td>\n",
       "      <td>10000000.0</td>\n",
       "      <td>0.0</td>\n",
       "      <td>8.0</td>\n",
       "      <td>1.0</td>\n",
       "      <td>1.0</td>\n",
       "      <td>2007.0</td>\n",
       "      <td>2007.0</td>\n",
       "    </tr>\n",
       "    <tr>\n",
       "      <th>217459</th>\n",
       "      <td>142181.0</td>\n",
       "      <td>Stop Being Watched</td>\n",
       "      <td>software</td>\n",
       "      <td>operating</td>\n",
       "      <td>2010-06-10</td>\n",
       "      <td>NaT</td>\n",
       "      <td>stopbeingwatched.com</td>\n",
       "      <td>SBWinfonetwork</td>\n",
       "      <td>USA</td>\n",
       "      <td>0.0</td>\n",
       "      <td>1.0</td>\n",
       "      <td>...</td>\n",
       "      <td>26607.0</td>\n",
       "      <td>142181.0</td>\n",
       "      <td>2010-06-10</td>\n",
       "      <td>angel</td>\n",
       "      <td>500000.0</td>\n",
       "      <td>0.0</td>\n",
       "      <td>1.0</td>\n",
       "      <td>1.0</td>\n",
       "      <td>1.0</td>\n",
       "      <td>2010.0</td>\n",
       "      <td>2010.0</td>\n",
       "    </tr>\n",
       "    <tr>\n",
       "      <th>217463</th>\n",
       "      <td>3429.0</td>\n",
       "      <td>Zend Technologies</td>\n",
       "      <td>software</td>\n",
       "      <td>operating</td>\n",
       "      <td>1999-01-01</td>\n",
       "      <td>NaT</td>\n",
       "      <td>zend.com</td>\n",
       "      <td>networkzend</td>\n",
       "      <td>USA</td>\n",
       "      <td>0.0</td>\n",
       "      <td>4.0</td>\n",
       "      <td>...</td>\n",
       "      <td>2318.0</td>\n",
       "      <td>3429.0</td>\n",
       "      <td>2006-08-28</td>\n",
       "      <td>series-c+</td>\n",
       "      <td>20000000.0</td>\n",
       "      <td>0.0</td>\n",
       "      <td>7.0</td>\n",
       "      <td>0.0</td>\n",
       "      <td>0.0</td>\n",
       "      <td>2006.0</td>\n",
       "      <td>2006.0</td>\n",
       "    </tr>\n",
       "    <tr>\n",
       "      <th>217467</th>\n",
       "      <td>7748.0</td>\n",
       "      <td>Flowgram</td>\n",
       "      <td>web</td>\n",
       "      <td>closed</td>\n",
       "      <td>2007-06-01</td>\n",
       "      <td>2008-06-11</td>\n",
       "      <td>flowgram.com</td>\n",
       "      <td>network</td>\n",
       "      <td>USA</td>\n",
       "      <td>0.0</td>\n",
       "      <td>1.0</td>\n",
       "      <td>...</td>\n",
       "      <td>2836.0</td>\n",
       "      <td>7748.0</td>\n",
       "      <td>2008-01-31</td>\n",
       "      <td>angel</td>\n",
       "      <td>1300000.0</td>\n",
       "      <td>0.0</td>\n",
       "      <td>8.0</td>\n",
       "      <td>1.0</td>\n",
       "      <td>1.0</td>\n",
       "      <td>2008.0</td>\n",
       "      <td>2008.0</td>\n",
       "    </tr>\n",
       "    <tr>\n",
       "      <th>217469</th>\n",
       "      <td>43233.0</td>\n",
       "      <td>Photonet</td>\n",
       "      <td>photo_video</td>\n",
       "      <td>acquired</td>\n",
       "      <td>2010-03-01</td>\n",
       "      <td>NaT</td>\n",
       "      <td>Photonet.com</td>\n",
       "      <td>Photonet</td>\n",
       "      <td>USA</td>\n",
       "      <td>0.0</td>\n",
       "      <td>3.0</td>\n",
       "      <td>...</td>\n",
       "      <td>12687.0</td>\n",
       "      <td>43233.0</td>\n",
       "      <td>2010-03-05</td>\n",
       "      <td>angel</td>\n",
       "      <td>500000.0</td>\n",
       "      <td>0.0</td>\n",
       "      <td>2.0</td>\n",
       "      <td>0.0</td>\n",
       "      <td>1.0</td>\n",
       "      <td>2010.0</td>\n",
       "      <td>2010.0</td>\n",
       "    </tr>\n",
       "  </tbody>\n",
       "</table>\n",
       "<p>40747 rows × 24 columns</p>\n",
       "</div>"
      ],
      "text/plain": [
       "        company_id_1                name category_code     status founded_at  \\\n",
       "0                1.0            Wetpaint           web  operating 2005-10-17   \n",
       "3               10.0             Flektor   games_video   acquired        NaT   \n",
       "4              100.0               There   games_video   acquired        NaT   \n",
       "15            1001.0          FriendFeed           web   acquired 2007-10-01   \n",
       "20           10014.0             Mobclix        mobile   acquired 2008-03-01   \n",
       "...              ...                 ...           ...        ...        ...   \n",
       "217458        1344.0              Vobile           web  operating 2005-01-01   \n",
       "217459      142181.0  Stop Being Watched      software  operating 2010-06-10   \n",
       "217463        3429.0   Zend Technologies      software  operating 1999-01-01   \n",
       "217467        7748.0            Flowgram           web     closed 2007-06-01   \n",
       "217469       43233.0            Photonet   photo_video   acquired 2010-03-01   \n",
       "\n",
       "        closed_at                domain network_username country_code  \\\n",
       "0             NaT      wetpaint-inc.com  BachelrWetpaint          USA   \n",
       "3             NaT           flektor.com              NaN          USA   \n",
       "4             NaT             there.com              NaN          USA   \n",
       "15            NaT        friendfeed.com       friendfeed          USA   \n",
       "20            NaT           mobclix.com          mobclix          USA   \n",
       "...           ...                   ...              ...          ...   \n",
       "217458        NaT         vobileinc.com    networkmobile          USA   \n",
       "217459        NaT  stopbeingwatched.com   SBWinfonetwork          USA   \n",
       "217463        NaT              zend.com      networkzend          USA   \n",
       "217467 2008-06-11          flowgram.com          network          USA   \n",
       "217469        NaT          Photonet.com         Photonet          USA   \n",
       "\n",
       "        investment_rounds  funding_rounds  ...  funding_round_id  \\\n",
       "0                     0.0             3.0  ...             888.0   \n",
       "3                     0.0             0.0  ...               NaN   \n",
       "4                     0.0             0.0  ...               NaN   \n",
       "15                    0.0             1.0  ...            1644.0   \n",
       "20                    0.0             1.0  ...            6682.0   \n",
       "...                   ...             ...  ...               ...   \n",
       "217458                0.0             1.0  ...             960.0   \n",
       "217459                0.0             1.0  ...           26607.0   \n",
       "217463                0.0             4.0  ...            2318.0   \n",
       "217467                0.0             1.0  ...            2836.0   \n",
       "217469                0.0             3.0  ...           12687.0   \n",
       "\n",
       "        company_id_2  funded_at  funding_round_type raised_amount  \\\n",
       "0                1.0 2005-10-01            series-a     5250000.0   \n",
       "3                NaN        NaT                 NaN           NaN   \n",
       "4                NaN        NaT                 NaN           NaN   \n",
       "15            1001.0 2008-02-26            series-a     5000000.0   \n",
       "20           10014.0 2008-09-01               angel           0.0   \n",
       "...              ...        ...                 ...           ...   \n",
       "217458        1344.0 2007-11-01            series-a    10000000.0   \n",
       "217459      142181.0 2010-06-10               angel      500000.0   \n",
       "217463        3429.0 2006-08-28           series-c+    20000000.0   \n",
       "217467        7748.0 2008-01-31               angel     1300000.0   \n",
       "217469       43233.0 2010-03-05               angel      500000.0   \n",
       "\n",
       "       pre_money_valuation  participants  is_first_round  is_last_round  \\\n",
       "0                      0.0           2.0             0.0            1.0   \n",
       "3                      NaN           NaN             NaN            NaN   \n",
       "4                      NaN           NaN             NaN            NaN   \n",
       "15                     0.0           3.0             1.0            1.0   \n",
       "20                     0.0           1.0             1.0            1.0   \n",
       "...                    ...           ...             ...            ...   \n",
       "217458                 0.0           8.0             1.0            1.0   \n",
       "217459                 0.0           1.0             1.0            1.0   \n",
       "217463                 0.0           7.0             0.0            0.0   \n",
       "217467                 0.0           8.0             1.0            1.0   \n",
       "217469                 0.0           2.0             0.0            1.0   \n",
       "\n",
       "          year  funded_year  \n",
       "0       2005.0       2005.0  \n",
       "3          NaN          NaN  \n",
       "4          NaN          NaN  \n",
       "15      2008.0       2008.0  \n",
       "20      2008.0       2008.0  \n",
       "...        ...          ...  \n",
       "217458  2007.0       2007.0  \n",
       "217459  2010.0       2010.0  \n",
       "217463  2006.0       2006.0  \n",
       "217467  2008.0       2008.0  \n",
       "217469  2010.0       2010.0  \n",
       "\n",
       "[40747 rows x 24 columns]"
      ]
     },
     "metadata": {},
     "output_type": "display_data"
    },
    {
     "name": "stdout",
     "output_type": "stream",
     "text": [
      "Количество таких компаний: 40747\n"
     ]
    }
   ],
   "source": [
    "# Фильтрация данных\n",
    "filtered_df = df_company[\n",
    "    (df_company['funding_rounds'] > 0) |\n",
    "    (df_company['investment_rounds'] > 0) |\n",
    "    (df_company['status'] == 'acquired')\n",
    "]\n",
    "\n",
    "# Вывод отфильтрованного датафрейма\n",
    "display(filtered_df)\n",
    "\n",
    "# Вывод количества таких компаний\n",
    "print(\"Количество таких компаний:\", len(filtered_df))"
   ]
  },
  {
   "cell_type": "markdown",
   "id": "86e8bf4b-b51e-4c1a-bb24-9b1022fbb219",
   "metadata": {},
   "source": [
    "В результате мы получили свыше 40 тысяч компаний. Далее будем работать с этим массивом данных."
   ]
  },
  {
   "cell_type": "markdown",
   "id": "61d8f62d-7396-4f3c-bd73-3ef7860c6d49",
   "metadata": {},
   "source": [
    "### 3.2. Анализ выбросов"
   ]
  },
  {
   "cell_type": "markdown",
   "id": "1aae44cc-c40d-4212-9baa-1e3a08a2b3f1",
   "metadata": {},
   "source": [
    "Проанализируем наиболее типичный для рассматриваемого периода размер средств, который предоставлялся компаниям, и исследуем выбивающиеся значения."
   ]
  },
  {
   "cell_type": "code",
   "execution_count": 71,
   "id": "68d596c6-6d5f-481b-908b-27abe7c38c70",
   "metadata": {},
   "outputs": [
    {
     "data": {
      "image/png": "[encoded data removed]",
      "text/plain": [
       "<Figure size 1200x600 with 1 Axes>"
      ]
     },
     "metadata": {},
     "output_type": "display_data"
    }
   ],
   "source": [
    "plt.figure(figsize=(12, 6))\n",
    "\n",
    "#Строим ящик с усами\n",
    "df_company.boxplot(column='funding_total', vert=False)\n",
    "plt.title(\"Boxplot funding_total\")\n",
    "plt.ticklabel_format(style='plain', axis='x')\n",
    "\n",
    "plt.show()"
   ]
  },
  {
   "cell_type": "markdown",
   "id": "e4de26f1-42c7-42a7-983f-5d46b03e4271",
   "metadata": {},
   "source": [
    "Поскольку данные имеют большой разброс, мы можем более наглядно рассмотреть их, добавив логарифмическую шкалу для гимстограммы:"
   ]
  },
  {
   "cell_type": "code",
   "execution_count": 73,
   "id": "ffdd8f1c-0db7-4063-8fcc-01ca5ce90c9e",
   "metadata": {},
   "outputs": [
    {
     "data": {
      "image/png": "[encoded data removed]",
      "text/plain": [
       "<Figure size 1200x600 with 1 Axes>"
      ]
     },
     "metadata": {},
     "output_type": "display_data"
    }
   ],
   "source": [
    "    plt.figure(figsize=(12, 6))\n",
    "    plt.hist(df_company['funding_total'], bins=50, color='skyblue', edgecolor='black', log=True)\n",
    "    plt.xscale('log')  # Логарифмическая шкала по оси X\n",
    "    plt.xlabel('Общее финансирование (логарифмическая шкала)')\n",
    "    plt.ylabel('Количество компаний')\n",
    "    plt.title('Распределение общего финансирования (логарифмическая шкала)')\n",
    "    plt.show()"
   ]
  },
  {
   "cell_type": "markdown",
   "id": "772767ce-2ec4-449e-93bd-ab49ce04edc7",
   "metadata": {},
   "source": [
    "Согласно построенному графику, большинство значений лежит на уровне 0. Анализируя оставшиеся данные, можно прийти к выводу, что наибольшая часть значений находится в области до 1000000000. Посмотрим на статистичческие данные, используя метод describe()"
   ]
  },
  {
   "cell_type": "code",
   "execution_count": 75,
   "id": "3248ac36-ca36-4455-b565-7035fd33a782",
   "metadata": {},
   "outputs": [
    {
     "name": "stdout",
     "output_type": "stream",
     "text": [
      "count       196553.00\n",
      "mean       2101192.48\n",
      "std       26034847.10\n",
      "min              0.00\n",
      "25%              0.00\n",
      "50%              0.00\n",
      "75%              0.00\n",
      "max     5700000000.00\n",
      "Name: funding_total, dtype: float64\n"
     ]
    }
   ],
   "source": [
    "describe_stats = df_company['funding_total'].describe()\n",
    "pd.options.display.float_format = '{:.2f}'.format\n",
    "print(describe_stats)"
   ]
  },
  {
   "cell_type": "markdown",
   "id": "99ed3691-1949-4d94-a204-889b3c80afc1",
   "metadata": {},
   "source": [
    "Можно заметить, что свыше 75% данных имеют показатель суммы финансирования равный 0. При этом максимальная сумма достигает 5700000000. Такое распределение можно считать не вполне типичным, поэтому стандартное выделение среднего значения и медианы этому набору данных не подходит."
   ]
  },
  {
   "cell_type": "markdown",
   "id": "a859a4a3-2b15-48e9-9626-5df20a9914b0",
   "metadata": {},
   "source": [
    "### 3.3. Куплены забесплатно?"
   ]
  },
  {
   "cell_type": "markdown",
   "id": "4f2bdd0a-975a-4adc-a2a9-f10bb169c828",
   "metadata": {},
   "source": [
    "Исследуем компании, которые были проданы за ноль или за один доллар, и при этом известно, что у них был ненулевой общий объём финансирования"
   ]
  },
  {
   "cell_type": "code",
   "execution_count": 79,
   "id": "082fd291-bea8-4640-a5b5-6e1b383e6d76",
   "metadata": {},
   "outputs": [
    {
     "data": {
      "text/html": [
       "<div>\n",
       "<style scoped>\n",
       "    .dataframe tbody tr th:only-of-type {\n",
       "        vertical-align: middle;\n",
       "    }\n",
       "\n",
       "    .dataframe tbody tr th {\n",
       "        vertical-align: top;\n",
       "    }\n",
       "\n",
       "    .dataframe thead th {\n",
       "        text-align: right;\n",
       "    }\n",
       "</style>\n",
       "<table border=\"1\" class=\"dataframe\">\n",
       "  <thead>\n",
       "    <tr style=\"text-align: right;\">\n",
       "      <th></th>\n",
       "      <th>company_id_1</th>\n",
       "      <th>name</th>\n",
       "      <th>category_code</th>\n",
       "      <th>status</th>\n",
       "      <th>founded_at</th>\n",
       "      <th>closed_at</th>\n",
       "      <th>domain</th>\n",
       "      <th>network_username</th>\n",
       "      <th>country_code</th>\n",
       "      <th>investment_rounds</th>\n",
       "      <th>funding_rounds</th>\n",
       "      <th>...</th>\n",
       "      <th>participants</th>\n",
       "      <th>is_first_round</th>\n",
       "      <th>is_last_round</th>\n",
       "      <th>year</th>\n",
       "      <th>funded_year</th>\n",
       "      <th>id</th>\n",
       "      <th>acquiring_company_id</th>\n",
       "      <th>acquired_company_id</th>\n",
       "      <th>term_code</th>\n",
       "      <th>price_amount</th>\n",
       "      <th>acquired_at</th>\n",
       "    </tr>\n",
       "  </thead>\n",
       "  <tbody>\n",
       "    <tr>\n",
       "      <th>51</th>\n",
       "      <td>100331.00</td>\n",
       "      <td>Solectria Renewables</td>\n",
       "      <td>cleantech</td>\n",
       "      <td>operating</td>\n",
       "      <td>NaT</td>\n",
       "      <td>NaT</td>\n",
       "      <td>solren.com</td>\n",
       "      <td>SolectriaRen</td>\n",
       "      <td>USA</td>\n",
       "      <td>0.00</td>\n",
       "      <td>1.00</td>\n",
       "      <td>...</td>\n",
       "      <td>1.00</td>\n",
       "      <td>1.00</td>\n",
       "      <td>1.00</td>\n",
       "      <td>2011.00</td>\n",
       "      <td>2011.00</td>\n",
       "      <td>6895.00</td>\n",
       "      <td>100331.00</td>\n",
       "      <td>152557.00</td>\n",
       "      <td>NaN</td>\n",
       "      <td>0.00</td>\n",
       "      <td>2012-03-20</td>\n",
       "    </tr>\n",
       "    <tr>\n",
       "      <th>111</th>\n",
       "      <td>100844.00</td>\n",
       "      <td>Attunity</td>\n",
       "      <td>software</td>\n",
       "      <td>ipo</td>\n",
       "      <td>NaT</td>\n",
       "      <td>NaT</td>\n",
       "      <td>attunity.com</td>\n",
       "      <td>attunity</td>\n",
       "      <td>USA</td>\n",
       "      <td>0.00</td>\n",
       "      <td>4.00</td>\n",
       "      <td>...</td>\n",
       "      <td>1.00</td>\n",
       "      <td>1.00</td>\n",
       "      <td>0.00</td>\n",
       "      <td>2011.00</td>\n",
       "      <td>2011.00</td>\n",
       "      <td>6113.00</td>\n",
       "      <td>100844.00</td>\n",
       "      <td>100840.00</td>\n",
       "      <td>NaN</td>\n",
       "      <td>0.00</td>\n",
       "      <td>2011-09-07</td>\n",
       "    </tr>\n",
       "    <tr>\n",
       "      <th>126</th>\n",
       "      <td>100938.00</td>\n",
       "      <td>The Local</td>\n",
       "      <td>news</td>\n",
       "      <td>operating</td>\n",
       "      <td>2004-04-01</td>\n",
       "      <td>NaT</td>\n",
       "      <td>thelocal.com</td>\n",
       "      <td>NaN</td>\n",
       "      <td>SWE</td>\n",
       "      <td>0.00</td>\n",
       "      <td>3.00</td>\n",
       "      <td>...</td>\n",
       "      <td>2.00</td>\n",
       "      <td>0.00</td>\n",
       "      <td>1.00</td>\n",
       "      <td>2007.00</td>\n",
       "      <td>2007.00</td>\n",
       "      <td>6114.00</td>\n",
       "      <td>100938.00</td>\n",
       "      <td>100937.00</td>\n",
       "      <td>NaN</td>\n",
       "      <td>0.00</td>\n",
       "      <td>2008-12-01</td>\n",
       "    </tr>\n",
       "    <tr>\n",
       "      <th>172</th>\n",
       "      <td>10120.00</td>\n",
       "      <td>MetaPack</td>\n",
       "      <td>software</td>\n",
       "      <td>operating</td>\n",
       "      <td>1999-01-01</td>\n",
       "      <td>NaT</td>\n",
       "      <td>metapack.com</td>\n",
       "      <td>MetaPack</td>\n",
       "      <td>GBR</td>\n",
       "      <td>0.00</td>\n",
       "      <td>2.00</td>\n",
       "      <td>...</td>\n",
       "      <td>2.00</td>\n",
       "      <td>0.00</td>\n",
       "      <td>1.00</td>\n",
       "      <td>2006.00</td>\n",
       "      <td>2006.00</td>\n",
       "      <td>10519.00</td>\n",
       "      <td>10120.00</td>\n",
       "      <td>285956.00</td>\n",
       "      <td>NaN</td>\n",
       "      <td>0.00</td>\n",
       "      <td>2013-12-11</td>\n",
       "    </tr>\n",
       "    <tr>\n",
       "      <th>261</th>\n",
       "      <td>10176.00</td>\n",
       "      <td>Yammer</td>\n",
       "      <td>enterprise</td>\n",
       "      <td>acquired</td>\n",
       "      <td>2008-09-10</td>\n",
       "      <td>NaT</td>\n",
       "      <td>yammer.com</td>\n",
       "      <td>yammer</td>\n",
       "      <td>USA</td>\n",
       "      <td>0.00</td>\n",
       "      <td>5.00</td>\n",
       "      <td>...</td>\n",
       "      <td>2.00</td>\n",
       "      <td>0.00</td>\n",
       "      <td>1.00</td>\n",
       "      <td>2009.00</td>\n",
       "      <td>2009.00</td>\n",
       "      <td>6978.00</td>\n",
       "      <td>10176.00</td>\n",
       "      <td>25170.00</td>\n",
       "      <td>NaN</td>\n",
       "      <td>0.00</td>\n",
       "      <td>2012-04-11</td>\n",
       "    </tr>\n",
       "    <tr>\n",
       "      <th>...</th>\n",
       "      <td>...</td>\n",
       "      <td>...</td>\n",
       "      <td>...</td>\n",
       "      <td>...</td>\n",
       "      <td>...</td>\n",
       "      <td>...</td>\n",
       "      <td>...</td>\n",
       "      <td>...</td>\n",
       "      <td>...</td>\n",
       "      <td>...</td>\n",
       "      <td>...</td>\n",
       "      <td>...</td>\n",
       "      <td>...</td>\n",
       "      <td>...</td>\n",
       "      <td>...</td>\n",
       "      <td>...</td>\n",
       "      <td>...</td>\n",
       "      <td>...</td>\n",
       "      <td>...</td>\n",
       "      <td>...</td>\n",
       "      <td>...</td>\n",
       "      <td>...</td>\n",
       "      <td>...</td>\n",
       "    </tr>\n",
       "    <tr>\n",
       "      <th>200990</th>\n",
       "      <td>12.00</td>\n",
       "      <td>Network</td>\n",
       "      <td>social</td>\n",
       "      <td>ipo</td>\n",
       "      <td>2006-03-21</td>\n",
       "      <td>NaT</td>\n",
       "      <td>network.com</td>\n",
       "      <td>network</td>\n",
       "      <td>USA</td>\n",
       "      <td>0.00</td>\n",
       "      <td>8.00</td>\n",
       "      <td>...</td>\n",
       "      <td>10.00</td>\n",
       "      <td>0.00</td>\n",
       "      <td>1.00</td>\n",
       "      <td>2007.00</td>\n",
       "      <td>2007.00</td>\n",
       "      <td>8611.00</td>\n",
       "      <td>12.00</td>\n",
       "      <td>117101.00</td>\n",
       "      <td>NaN</td>\n",
       "      <td>0.00</td>\n",
       "      <td>2013-05-13</td>\n",
       "    </tr>\n",
       "    <tr>\n",
       "      <th>200991</th>\n",
       "      <td>12.00</td>\n",
       "      <td>Network</td>\n",
       "      <td>social</td>\n",
       "      <td>ipo</td>\n",
       "      <td>2006-03-21</td>\n",
       "      <td>NaT</td>\n",
       "      <td>network.com</td>\n",
       "      <td>network</td>\n",
       "      <td>USA</td>\n",
       "      <td>0.00</td>\n",
       "      <td>8.00</td>\n",
       "      <td>...</td>\n",
       "      <td>10.00</td>\n",
       "      <td>0.00</td>\n",
       "      <td>1.00</td>\n",
       "      <td>2007.00</td>\n",
       "      <td>2007.00</td>\n",
       "      <td>8927.00</td>\n",
       "      <td>12.00</td>\n",
       "      <td>79120.00</td>\n",
       "      <td>NaN</td>\n",
       "      <td>0.00</td>\n",
       "      <td>2013-06-19</td>\n",
       "    </tr>\n",
       "    <tr>\n",
       "      <th>200992</th>\n",
       "      <td>12.00</td>\n",
       "      <td>Network</td>\n",
       "      <td>social</td>\n",
       "      <td>ipo</td>\n",
       "      <td>2006-03-21</td>\n",
       "      <td>NaT</td>\n",
       "      <td>network.com</td>\n",
       "      <td>network</td>\n",
       "      <td>USA</td>\n",
       "      <td>0.00</td>\n",
       "      <td>8.00</td>\n",
       "      <td>...</td>\n",
       "      <td>10.00</td>\n",
       "      <td>0.00</td>\n",
       "      <td>1.00</td>\n",
       "      <td>2007.00</td>\n",
       "      <td>2007.00</td>\n",
       "      <td>9286.00</td>\n",
       "      <td>12.00</td>\n",
       "      <td>1143.00</td>\n",
       "      <td>NaN</td>\n",
       "      <td>0.00</td>\n",
       "      <td>2013-08-13</td>\n",
       "    </tr>\n",
       "    <tr>\n",
       "      <th>200993</th>\n",
       "      <td>12.00</td>\n",
       "      <td>Network</td>\n",
       "      <td>social</td>\n",
       "      <td>ipo</td>\n",
       "      <td>2006-03-21</td>\n",
       "      <td>NaT</td>\n",
       "      <td>network.com</td>\n",
       "      <td>network</td>\n",
       "      <td>USA</td>\n",
       "      <td>0.00</td>\n",
       "      <td>8.00</td>\n",
       "      <td>...</td>\n",
       "      <td>10.00</td>\n",
       "      <td>0.00</td>\n",
       "      <td>1.00</td>\n",
       "      <td>2007.00</td>\n",
       "      <td>2007.00</td>\n",
       "      <td>9512.00</td>\n",
       "      <td>12.00</td>\n",
       "      <td>3614.00</td>\n",
       "      <td>NaN</td>\n",
       "      <td>0.00</td>\n",
       "      <td>2013-08-28</td>\n",
       "    </tr>\n",
       "    <tr>\n",
       "      <th>201159</th>\n",
       "      <td>43233.00</td>\n",
       "      <td>Photonet</td>\n",
       "      <td>photo_video</td>\n",
       "      <td>acquired</td>\n",
       "      <td>2010-03-01</td>\n",
       "      <td>NaT</td>\n",
       "      <td>Photonet.com</td>\n",
       "      <td>Photonet</td>\n",
       "      <td>USA</td>\n",
       "      <td>0.00</td>\n",
       "      <td>3.00</td>\n",
       "      <td>...</td>\n",
       "      <td>2.00</td>\n",
       "      <td>0.00</td>\n",
       "      <td>1.00</td>\n",
       "      <td>2010.00</td>\n",
       "      <td>2010.00</td>\n",
       "      <td>9380.00</td>\n",
       "      <td>43233.00</td>\n",
       "      <td>257714.00</td>\n",
       "      <td>NaN</td>\n",
       "      <td>0.00</td>\n",
       "      <td>2013-08-23</td>\n",
       "    </tr>\n",
       "  </tbody>\n",
       "</table>\n",
       "<p>2567 rows × 30 columns</p>\n",
       "</div>"
      ],
      "text/plain": [
       "        company_id_1                  name category_code     status  \\\n",
       "51         100331.00  Solectria Renewables     cleantech  operating   \n",
       "111        100844.00              Attunity      software        ipo   \n",
       "126        100938.00             The Local          news  operating   \n",
       "172         10120.00              MetaPack      software  operating   \n",
       "261         10176.00                Yammer    enterprise   acquired   \n",
       "...              ...                   ...           ...        ...   \n",
       "200990         12.00               Network        social        ipo   \n",
       "200991         12.00               Network        social        ipo   \n",
       "200992         12.00               Network        social        ipo   \n",
       "200993         12.00               Network        social        ipo   \n",
       "201159      43233.00              Photonet   photo_video   acquired   \n",
       "\n",
       "       founded_at closed_at        domain network_username country_code  \\\n",
       "51            NaT       NaT    solren.com     SolectriaRen          USA   \n",
       "111           NaT       NaT  attunity.com         attunity          USA   \n",
       "126    2004-04-01       NaT  thelocal.com              NaN          SWE   \n",
       "172    1999-01-01       NaT  metapack.com         MetaPack          GBR   \n",
       "261    2008-09-10       NaT    yammer.com           yammer          USA   \n",
       "...           ...       ...           ...              ...          ...   \n",
       "200990 2006-03-21       NaT   network.com          network          USA   \n",
       "200991 2006-03-21       NaT   network.com          network          USA   \n",
       "200992 2006-03-21       NaT   network.com          network          USA   \n",
       "200993 2006-03-21       NaT   network.com          network          USA   \n",
       "201159 2010-03-01       NaT  Photonet.com         Photonet          USA   \n",
       "\n",
       "        investment_rounds  funding_rounds  ...  participants  is_first_round  \\\n",
       "51                   0.00            1.00  ...          1.00            1.00   \n",
       "111                  0.00            4.00  ...          1.00            1.00   \n",
       "126                  0.00            3.00  ...          2.00            0.00   \n",
       "172                  0.00            2.00  ...          2.00            0.00   \n",
       "261                  0.00            5.00  ...          2.00            0.00   \n",
       "...                   ...             ...  ...           ...             ...   \n",
       "200990               0.00            8.00  ...         10.00            0.00   \n",
       "200991               0.00            8.00  ...         10.00            0.00   \n",
       "200992               0.00            8.00  ...         10.00            0.00   \n",
       "200993               0.00            8.00  ...         10.00            0.00   \n",
       "201159               0.00            3.00  ...          2.00            0.00   \n",
       "\n",
       "        is_last_round    year funded_year       id  acquiring_company_id  \\\n",
       "51               1.00 2011.00     2011.00  6895.00             100331.00   \n",
       "111              0.00 2011.00     2011.00  6113.00             100844.00   \n",
       "126              1.00 2007.00     2007.00  6114.00             100938.00   \n",
       "172              1.00 2006.00     2006.00 10519.00              10120.00   \n",
       "261              1.00 2009.00     2009.00  6978.00              10176.00   \n",
       "...               ...     ...         ...      ...                   ...   \n",
       "200990           1.00 2007.00     2007.00  8611.00                 12.00   \n",
       "200991           1.00 2007.00     2007.00  8927.00                 12.00   \n",
       "200992           1.00 2007.00     2007.00  9286.00                 12.00   \n",
       "200993           1.00 2007.00     2007.00  9512.00                 12.00   \n",
       "201159           1.00 2010.00     2010.00  9380.00              43233.00   \n",
       "\n",
       "        acquired_company_id  term_code  price_amount  acquired_at  \n",
       "51                152557.00        NaN          0.00   2012-03-20  \n",
       "111               100840.00        NaN          0.00   2011-09-07  \n",
       "126               100937.00        NaN          0.00   2008-12-01  \n",
       "172               285956.00        NaN          0.00   2013-12-11  \n",
       "261                25170.00        NaN          0.00   2012-04-11  \n",
       "...                     ...        ...           ...          ...  \n",
       "200990            117101.00        NaN          0.00   2013-05-13  \n",
       "200991             79120.00        NaN          0.00   2013-06-19  \n",
       "200992              1143.00        NaN          0.00   2013-08-13  \n",
       "200993              3614.00        NaN          0.00   2013-08-28  \n",
       "201159            257714.00        NaN          0.00   2013-08-23  \n",
       "\n",
       "[2567 rows x 30 columns]"
      ]
     },
     "metadata": {},
     "output_type": "display_data"
    }
   ],
   "source": [
    "# Объединение таблиц\n",
    "df_merged = df_company.merge(acquisition_df, left_on='company_id_1', right_on='acquiring_company_id', how='left')\n",
    "\n",
    "# Фильтрация: проданы за 0 или 1 доллар, но имели ненулевое финансирование\n",
    "sold_for_free = df_merged[(df_merged['price_amount'].isin([0, 1])) & (df_merged['funding_total'] > 0)]\n",
    "\n",
    "display(sold_for_free)"
   ]
  },
  {
   "cell_type": "code",
   "execution_count": 80,
   "id": "243ba5bc-c810-46e2-8594-bc5fecb9ead7",
   "metadata": {},
   "outputs": [
    {
     "name": "stdout",
     "output_type": "stream",
     "text": [
      "1263\n"
     ]
    }
   ],
   "source": [
    "unique_sold_for_free = sold_for_free['company_id_1'].nunique()\n",
    "print(unique_sold_for_free)"
   ]
  },
  {
   "cell_type": "markdown",
   "id": "becf0ed8-45d1-4889-a725-df2e2e5de436",
   "metadata": {},
   "source": [
    "В результате мы получили 1263 компании.\n",
    "\n",
    "Посмотрим на то, компаний в каком статусе и в какой категории в данной выборке больше всего:"
   ]
  },
  {
   "cell_type": "code",
   "execution_count": 82,
   "id": "60fde722-3e74-4c3e-9582-d6bfd08cb8b2",
   "metadata": {},
   "outputs": [
    {
     "data": {
      "text/html": [
       "<div>\n",
       "<style scoped>\n",
       "    .dataframe tbody tr th:only-of-type {\n",
       "        vertical-align: middle;\n",
       "    }\n",
       "\n",
       "    .dataframe tbody tr th {\n",
       "        vertical-align: top;\n",
       "    }\n",
       "\n",
       "    .dataframe thead th {\n",
       "        text-align: right;\n",
       "    }\n",
       "</style>\n",
       "<table border=\"1\" class=\"dataframe\">\n",
       "  <thead>\n",
       "    <tr style=\"text-align: right;\">\n",
       "      <th></th>\n",
       "      <th>status</th>\n",
       "      <th>company_id_1</th>\n",
       "    </tr>\n",
       "  </thead>\n",
       "  <tbody>\n",
       "    <tr>\n",
       "      <th>0</th>\n",
       "      <td>acquired</td>\n",
       "      <td>304</td>\n",
       "    </tr>\n",
       "    <tr>\n",
       "      <th>1</th>\n",
       "      <td>closed</td>\n",
       "      <td>39</td>\n",
       "    </tr>\n",
       "    <tr>\n",
       "      <th>2</th>\n",
       "      <td>ipo</td>\n",
       "      <td>857</td>\n",
       "    </tr>\n",
       "    <tr>\n",
       "      <th>3</th>\n",
       "      <td>operating</td>\n",
       "      <td>1367</td>\n",
       "    </tr>\n",
       "  </tbody>\n",
       "</table>\n",
       "</div>"
      ],
      "text/plain": [
       "      status  company_id_1\n",
       "0   acquired           304\n",
       "1     closed            39\n",
       "2        ipo           857\n",
       "3  operating          1367"
      ]
     },
     "metadata": {},
     "output_type": "display_data"
    }
   ],
   "source": [
    "group_status = sold_for_free.groupby('status')['company_id_1'].count().reset_index()\n",
    "display(group_status)"
   ]
  },
  {
   "cell_type": "code",
   "execution_count": 83,
   "id": "31fffd18-0975-4202-9a30-61046f7d2410",
   "metadata": {},
   "outputs": [
    {
     "data": {
      "text/plain": [
       "category_code\n",
       "design                1\n",
       "nanotech              1\n",
       "legal                 1\n",
       "sports                2\n",
       "automotive            4\n",
       "pets                  4\n",
       "photo_video           6\n",
       "medical               6\n",
       "fashion               6\n",
       "nonprofit             7\n",
       "transportation        7\n",
       "manufacturing         8\n",
       "messaging            10\n",
       "real_estate          12\n",
       "health               13\n",
       "music                13\n",
       "hospitality          15\n",
       "consulting           20\n",
       "education            21\n",
       "semiconductor        24\n",
       "finance              26\n",
       "public_relations     30\n",
       "travel               34\n",
       "other                35\n",
       "analytics            40\n",
       "cleantech            46\n",
       "hardware             56\n",
       "security             60\n",
       "biotech              61\n",
       "news                 64\n",
       "social               94\n",
       "search              117\n",
       "mobile              124\n",
       "ecommerce           140\n",
       "games_video         158\n",
       "advertising         161\n",
       "network_hosting     202\n",
       "enterprise          211\n",
       "software            336\n",
       "web                 360\n",
       "Name: company_id_1, dtype: int64"
      ]
     },
     "metadata": {},
     "output_type": "display_data"
    }
   ],
   "source": [
    "group_category = sold_for_free.groupby('category_code')['company_id_1'].count().sort_values()\n",
    "display(group_category)"
   ]
  },
  {
   "cell_type": "markdown",
   "id": "3d869524-665a-4cb8-b076-a1e081dfcb76",
   "metadata": {},
   "source": [
    "Наибольшее количество компаний находятся в статусе `operating` и принадлежат категориям `web`, `software` и `enterprise`.\n",
    "\n",
    "Теперь необходимо рассчитать верхнюю и нижнюю границу выбросов для столбца `funding_total` и посмотреть, каким процентилям соответствуют их границы."
   ]
  },
  {
   "cell_type": "code",
   "execution_count": 85,
   "id": "9dfb9ec8-8cb3-4b62-a314-cce3b745a752",
   "metadata": {},
   "outputs": [
    {
     "name": "stdout",
     "output_type": "stream",
     "text": [
      "Верхний порог выбросов: 0.0\n",
      "Нижний порог выбросов: 0.0\n"
     ]
    }
   ],
   "source": [
    "# Вычисляем квартили Q1 и Q3\n",
    "Q1 = df_company['funding_total'].quantile(0.25)\n",
    "Q3 = df_company['funding_total'].quantile(0.75)\n",
    "\n",
    "# Вычисляем межквартильный размах IQR\n",
    "IQR = Q3 - Q1\n",
    "\n",
    "# Определяем верхний и нижний порог для выбросов\n",
    "upper_bound = Q3 + 1.5 * IQR\n",
    "lower_bound = Q3 + 1.5 * IQR\n",
    "\n",
    "print(f'Верхний порог выбросов: {upper_bound}')\n",
    "print(f'Нижний порог выбросов: {lower_bound}')"
   ]
  },
  {
   "cell_type": "code",
   "execution_count": 86,
   "id": "ed7590da-d185-4bc5-b6db-38b235fd6899",
   "metadata": {},
   "outputs": [
    {
     "name": "stdout",
     "output_type": "stream",
     "text": [
      "Процент данных выше верхней границы: 14.18%\n",
      "Процент данных ниже нижней границы: 0.00%\n"
     ]
    }
   ],
   "source": [
    "# Определяем процентили для границ\n",
    "upper_percentile = (df_company['funding_total'] > upper_bound).mean() * 100\n",
    "lower_percentile = (df_company['funding_total'] < lower_bound).mean() * 100\n",
    "print(f\"Процент данных выше верхней границы: {upper_percentile:.2f}%\")\n",
    "print(f\"Процент данных ниже нижней границы: {lower_percentile:.2f}%\")"
   ]
  },
  {
   "cell_type": "markdown",
   "id": "9ac5a11c-8172-462c-8f3d-6eb3817418b6",
   "metadata": {},
   "source": [
    "### 3.4. Цены стартапов по категориям"
   ]
  },
  {
   "cell_type": "markdown",
   "id": "d6bf357d-de85-4f4a-9b08-1073c070d3f9",
   "metadata": {},
   "source": [
    "Среди категорий стартапов необходимо выделить категории, характеризующиеся:\n",
    "- типично высокими ценами;\n",
    "- наибольшим разбросом цен за стартап."
   ]
  },
  {
   "cell_type": "code",
   "execution_count": 89,
   "id": "ae892c38-a465-4f62-bc27-21753e7d2542",
   "metadata": {},
   "outputs": [
    {
     "name": "stdout",
     "output_type": "stream",
     "text": [
      "Категории с типично высокими ценами:\n"
     ]
    },
    {
     "data": {
      "text/html": [
       "<div>\n",
       "<style scoped>\n",
       "    .dataframe tbody tr th:only-of-type {\n",
       "        vertical-align: middle;\n",
       "    }\n",
       "\n",
       "    .dataframe tbody tr th {\n",
       "        vertical-align: top;\n",
       "    }\n",
       "\n",
       "    .dataframe thead th {\n",
       "        text-align: right;\n",
       "    }\n",
       "</style>\n",
       "<table border=\"1\" class=\"dataframe\">\n",
       "  <thead>\n",
       "    <tr style=\"text-align: right;\">\n",
       "      <th></th>\n",
       "      <th>category_code</th>\n",
       "      <th>median_price</th>\n",
       "    </tr>\n",
       "  </thead>\n",
       "  <tbody>\n",
       "    <tr>\n",
       "      <th>18</th>\n",
       "      <td>local</td>\n",
       "      <td>486000000.00</td>\n",
       "    </tr>\n",
       "    <tr>\n",
       "      <th>3</th>\n",
       "      <td>biotech</td>\n",
       "      <td>9125000.00</td>\n",
       "    </tr>\n",
       "    <tr>\n",
       "      <th>35</th>\n",
       "      <td>semiconductor</td>\n",
       "      <td>225000.00</td>\n",
       "    </tr>\n",
       "  </tbody>\n",
       "</table>\n",
       "</div>"
      ],
      "text/plain": [
       "    category_code  median_price\n",
       "18          local  486000000.00\n",
       "3         biotech    9125000.00\n",
       "35  semiconductor     225000.00"
      ]
     },
     "metadata": {},
     "output_type": "display_data"
    },
    {
     "name": "stdout",
     "output_type": "stream",
     "text": [
      "Категории с наибольшим разбросом цен:\n"
     ]
    },
    {
     "data": {
      "text/html": [
       "<div>\n",
       "<style scoped>\n",
       "    .dataframe tbody tr th:only-of-type {\n",
       "        vertical-align: middle;\n",
       "    }\n",
       "\n",
       "    .dataframe tbody tr th {\n",
       "        vertical-align: top;\n",
       "    }\n",
       "\n",
       "    .dataframe thead th {\n",
       "        text-align: right;\n",
       "    }\n",
       "</style>\n",
       "<table border=\"1\" class=\"dataframe\">\n",
       "  <thead>\n",
       "    <tr style=\"text-align: right;\">\n",
       "      <th></th>\n",
       "      <th>category_code</th>\n",
       "      <th>std_dev</th>\n",
       "    </tr>\n",
       "  </thead>\n",
       "  <tbody>\n",
       "    <tr>\n",
       "      <th>9</th>\n",
       "      <td>enterprise</td>\n",
       "      <td>100594813116.75</td>\n",
       "    </tr>\n",
       "    <tr>\n",
       "      <th>22</th>\n",
       "      <td>mobile</td>\n",
       "      <td>3249037590.76</td>\n",
       "    </tr>\n",
       "    <tr>\n",
       "      <th>11</th>\n",
       "      <td>finance</td>\n",
       "      <td>3084957585.36</td>\n",
       "    </tr>\n",
       "    <tr>\n",
       "      <th>32</th>\n",
       "      <td>real_estate</td>\n",
       "      <td>1610243545.45</td>\n",
       "    </tr>\n",
       "    <tr>\n",
       "      <th>3</th>\n",
       "      <td>biotech</td>\n",
       "      <td>1535770346.14</td>\n",
       "    </tr>\n",
       "  </tbody>\n",
       "</table>\n",
       "</div>"
      ],
      "text/plain": [
       "   category_code         std_dev\n",
       "9     enterprise 100594813116.75\n",
       "22        mobile   3249037590.76\n",
       "11       finance   3084957585.36\n",
       "32   real_estate   1610243545.45\n",
       "3        biotech   1535770346.14"
      ]
     },
     "metadata": {},
     "output_type": "display_data"
    }
   ],
   "source": [
    "import numpy as np\n",
    "#Сгруппируем данные по категориям \n",
    "category_stats = df_merged.groupby('category_code')['price_amount'].agg(\n",
    "    mean_price='mean', \n",
    "    median_price='median',\n",
    "    std_dev='std',\n",
    "    Q1=lambda x: np.percentile(x, 25),\n",
    "    Q3=lambda x: np.percentile(x, 75)\n",
    ").reset_index()\n",
    "\n",
    "# Выбираем категории с высокими ценами (по медиане)\n",
    "high_price_categories = category_stats.sort_values(by='median_price', ascending=False).head(3)\n",
    "\n",
    "# Выбираем категории с наибольшим разбросом (по стандартному отклонению или IQR)\n",
    "high_variance_categories = category_stats.sort_values(by='std_dev', ascending=False).head(5)\n",
    "\n",
    "# Вывод результатов\n",
    "print(\"Категории с типично высокими ценами:\")\n",
    "display(high_price_categories[['category_code', 'median_price']])\n",
    "\n",
    "print(\"Категории с наибольшим разбросом цен:\")\n",
    "display(high_variance_categories[['category_code', 'std_dev']])"
   ]
  },
  {
   "cell_type": "markdown",
   "id": "70406504-6e38-4350-8701-22ae46951d41",
   "metadata": {},
   "source": [
    "Для расчета топа были выбраны стандартные стаитстичческие показатели. Опираясь на обе таблицы, удалось установить, что в них особо выделяются первые три строчки: показатели в них значительно превышают показатели последующих строк. В таблицах обнаружено пересечение: категория `biotech`, представленная как в списке категорий с типично высокими ценами (медиана - 9125000.00) , так и в категории с наибольшим разбросом цен (параметр отклонения - 1535770346.14)."
   ]
  },
  {
   "cell_type": "markdown",
   "id": "f5879ac3-0874-444e-8ffa-b821bb252fe9",
   "metadata": {},
   "source": [
    "### 3.5. Сколько раундов продержится стартап перед покупкой"
   ]
  },
  {
   "cell_type": "markdown",
   "id": "1f25f601-9d56-4567-8a2a-8c158c0b8b9e",
   "metadata": {},
   "source": [
    "Необходимо проанализировать столбец `funding_rounds` и исследовать значения столбца, а именно типичное значение количества раундов для каждого возможного статуса стартапа."
   ]
  },
  {
   "cell_type": "code",
   "execution_count": 93,
   "id": "cb331a29-5298-40eb-a47c-c221a853d83e",
   "metadata": {},
   "outputs": [
    {
     "name": "stdout",
     "output_type": "stream",
     "text": [
      "Типичное количество раундов для каждого статуса стартапа:\n"
     ]
    },
    {
     "data": {
      "text/html": [
       "<div>\n",
       "<style scoped>\n",
       "    .dataframe tbody tr th:only-of-type {\n",
       "        vertical-align: middle;\n",
       "    }\n",
       "\n",
       "    .dataframe tbody tr th {\n",
       "        vertical-align: top;\n",
       "    }\n",
       "\n",
       "    .dataframe thead th {\n",
       "        text-align: right;\n",
       "    }\n",
       "</style>\n",
       "<table border=\"1\" class=\"dataframe\">\n",
       "  <thead>\n",
       "    <tr style=\"text-align: right;\">\n",
       "      <th></th>\n",
       "      <th>status</th>\n",
       "      <th>funding_rounds</th>\n",
       "    </tr>\n",
       "  </thead>\n",
       "  <tbody>\n",
       "    <tr>\n",
       "      <th>0</th>\n",
       "      <td>acquired</td>\n",
       "      <td>1.00</td>\n",
       "    </tr>\n",
       "    <tr>\n",
       "      <th>1</th>\n",
       "      <td>closed</td>\n",
       "      <td>1.00</td>\n",
       "    </tr>\n",
       "    <tr>\n",
       "      <th>2</th>\n",
       "      <td>ipo</td>\n",
       "      <td>2.00</td>\n",
       "    </tr>\n",
       "    <tr>\n",
       "      <th>3</th>\n",
       "      <td>operating</td>\n",
       "      <td>1.00</td>\n",
       "    </tr>\n",
       "  </tbody>\n",
       "</table>\n",
       "</div>"
      ],
      "text/plain": [
       "      status  funding_rounds\n",
       "0   acquired            1.00\n",
       "1     closed            1.00\n",
       "2        ipo            2.00\n",
       "3  operating            1.00"
      ]
     },
     "metadata": {},
     "output_type": "display_data"
    }
   ],
   "source": [
    "df_company_filtered = df_company[\n",
    "    (df_company['funding_rounds'] > 0)\n",
    "]\n",
    "\n",
    "funding_stats = df_company_filtered.groupby('status')['funding_rounds'].median().reset_index()\n",
    "\n",
    "print(\"Типичное количество раундов для каждого статуса стартапа:\")\n",
    "display(funding_stats)"
   ]
  },
  {
   "cell_type": "code",
   "execution_count": 94,
   "id": "4fdf83a1-5391-40be-b298-678f701578d5",
   "metadata": {},
   "outputs": [
    {
     "data": {
      "image/png": "[encoded data removed]",
      "text/plain": [
       "<Figure size 800x500 with 1 Axes>"
      ]
     },
     "metadata": {},
     "output_type": "display_data"
    }
   ],
   "source": [
    "funding_stats = df_company_filtered.groupby('status')['funding_rounds'].median().reset_index()\n",
    "\n",
    "# Построение графика\n",
    "plt.figure(figsize=(8, 5))\n",
    "sns.barplot(x='status', y='funding_rounds', data=funding_stats)\n",
    "\n",
    "# Подписи\n",
    "plt.xlabel(\"Статус стартапа\")\n",
    "plt.ylabel(\"Медианное количество раундов\")\n",
    "plt.title(\"Медианное количество раундов финансирования для каждого статуса\")\n",
    "\n",
    "# Отображаем график\n",
    "plt.show()"
   ]
  },
  {
   "cell_type": "markdown",
   "id": "a4bb4757-8003-45e6-90fc-d8bd2d23a9a4",
   "metadata": {},
   "source": [
    "Таким образом, медианное количество раундов финансирования выше у стартапов в статусе 'closed'. У компаний в других статусах медианное количество раундов финансирования минимально."
   ]
  },
  {
   "cell_type": "markdown",
   "id": "05ab07f4-287d-4a5c-a870-0d65142a6dc5",
   "metadata": {},
   "source": [
    "Наибольшим медианным количеством раундов финансирования обладают компании в статусе 'Первичное публичное предложение'."
   ]
  },
  {
   "cell_type": "markdown",
   "id": "a5ae37ca-6c7c-4b72-acea-8ccc2bd37f53",
   "metadata": {},
   "source": [
    "## 4. Итоговый вывод и рекомендации"
   ]
  },
  {
   "cell_type": "markdown",
   "id": "3844eed2-770f-4a2d-8d8c-d3b61d945eec",
   "metadata": {},
   "source": [
    "В ходе исследования была проведена работа с базой данных, содержащей информацию о компаниях, раундах финансирования,покупках одних компаний другими и сотрудниках. Основными исследуемыми показателями стали: даты инвестирования, количество раундов финансирования, сумма финансирования, стоимость продажи.\n",
    "\n",
    "Было установлено:\n",
    "1. Данные из таблиц можно не только объединять, но и разделять для удобства дальнейшей работы: так из датафрейма с большим количеством пропусков и плохо прослеживаемой структурой `company_and_rounds_df` были выделены два датафрейма `df_company` и `df_rounds`;\n",
    "2. Данные о сотрудниках стартапов и их образовании неполны, однако по ним можно отследить тенденцию, что чем крупнее компания, тем лучше представлена информация об образовании;\n",
    "3. Большинство покупок за 0 или за 1 доллар относятся к действующим компаниям и принадлежат категориям `web`, `software` и `enterprise`;\n",
    "4. Цена стартапов сильно разнится в зависимости от категории: лидерами являются `local`\t(486000000.00), `biotech` (9125000.00) и `semiconductor` (225000.00);\n",
    "5. Для описания статистических показателей были использованы стандартные методы, в том числе метод `describe()` и расчет границ выбросов.\n",
    "\n",
    "Таким образом, цель проекта - подготовка датасета и проверка корректности данных для решения задач - была достигнута. "
   ]
  },
  {
   "cell_type": "markdown",
   "id": "64793af4-4e6f-40b8-869b-0659c463fcf9",
   "metadata": {},
   "source": [
    "Можно предложить следующие рекомендации:\n",
    "\n",
    "1. Присматриваться к компаниям, которые меняли или готовы менять владельцев. Получение инвестиций или финансирования может означать потенциальный интерес к покупке или продаже компании;\n",
    "\n",
    "2. Можно порекомендовать более пристально оценивать категории стартапов, поскольку зачастую они сильно влияют на стоимость продажи и разброс цен;\n",
    "\n",
    "3. Также стоит уделять внимание рисковым с точки зрения инвестиций стартапам: это стартапы с ненулевым финансированием и стоимостью продажи в 1 или 0 долларов. Наиболее частотные категории и статусы таких стартапов также выделены в исследовании;\n",
    "\n",
    "4. Оценивать типичную стоимость и количество раундов финансирования в контексте общих тенденций, обращая внимание на значения-выбросы."
   ]
  }
 ],
 "metadata": {
  "ExecuteTimeLog": [
   {
    "duration": 1287,
    "start_time": "2025-03-26T13:57:50.085Z"
   },
   {
    "duration": 98,
    "start_time": "2025-03-26T13:57:51.374Z"
   },
   {
    "duration": 0,
    "start_time": "2025-03-26T13:57:51.474Z"
   },
   {
    "duration": 0,
    "start_time": "2025-03-26T13:57:51.475Z"
   },
   {
    "duration": 0,
    "start_time": "2025-03-26T13:57:51.476Z"
   },
   {
    "duration": 0,
    "start_time": "2025-03-26T13:57:51.478Z"
   },
   {
    "duration": 0,
    "start_time": "2025-03-26T13:57:51.479Z"
   },
   {
    "duration": 0,
    "start_time": "2025-03-26T13:57:51.480Z"
   },
   {
    "duration": 0,
    "start_time": "2025-03-26T13:57:51.481Z"
   },
   {
    "duration": 0,
    "start_time": "2025-03-26T13:57:51.482Z"
   },
   {
    "duration": 0,
    "start_time": "2025-03-26T13:57:51.484Z"
   },
   {
    "duration": 0,
    "start_time": "2025-03-26T13:57:51.485Z"
   },
   {
    "duration": 0,
    "start_time": "2025-03-26T13:57:51.486Z"
   },
   {
    "duration": 0,
    "start_time": "2025-03-26T13:57:51.487Z"
   },
   {
    "duration": 0,
    "start_time": "2025-03-26T13:57:51.488Z"
   },
   {
    "duration": 0,
    "start_time": "2025-03-26T13:57:51.489Z"
   },
   {
    "duration": 0,
    "start_time": "2025-03-26T13:57:51.490Z"
   },
   {
    "duration": 0,
    "start_time": "2025-03-26T13:57:51.491Z"
   },
   {
    "duration": 0,
    "start_time": "2025-03-26T13:57:51.492Z"
   },
   {
    "duration": 0,
    "start_time": "2025-03-26T13:57:51.493Z"
   },
   {
    "duration": 0,
    "start_time": "2025-03-26T13:57:51.494Z"
   },
   {
    "duration": 0,
    "start_time": "2025-03-26T13:57:51.495Z"
   },
   {
    "duration": 0,
    "start_time": "2025-03-26T13:57:51.496Z"
   },
   {
    "duration": 0,
    "start_time": "2025-03-26T13:57:51.497Z"
   },
   {
    "duration": 0,
    "start_time": "2025-03-26T13:57:51.498Z"
   },
   {
    "duration": 0,
    "start_time": "2025-03-26T13:57:51.499Z"
   },
   {
    "duration": 0,
    "start_time": "2025-03-26T13:57:51.500Z"
   },
   {
    "duration": 0,
    "start_time": "2025-03-26T13:57:51.501Z"
   },
   {
    "duration": 0,
    "start_time": "2025-03-26T13:57:51.502Z"
   },
   {
    "duration": 0,
    "start_time": "2025-03-26T13:57:51.503Z"
   },
   {
    "duration": 0,
    "start_time": "2025-03-26T13:57:51.504Z"
   },
   {
    "duration": 0,
    "start_time": "2025-03-26T13:57:51.505Z"
   },
   {
    "duration": 0,
    "start_time": "2025-03-26T13:57:51.506Z"
   },
   {
    "duration": 1111,
    "start_time": "2025-03-26T13:57:59.756Z"
   },
   {
    "duration": 2895,
    "start_time": "2025-03-26T13:58:00.869Z"
   },
   {
    "duration": 25,
    "start_time": "2025-03-26T13:58:03.766Z"
   },
   {
    "duration": 104,
    "start_time": "2025-03-26T13:58:03.793Z"
   },
   {
    "duration": 8,
    "start_time": "2025-03-26T13:58:03.899Z"
   },
   {
    "duration": 15,
    "start_time": "2025-03-26T13:58:03.908Z"
   },
   {
    "duration": 17,
    "start_time": "2025-03-26T13:58:03.924Z"
   },
   {
    "duration": 52,
    "start_time": "2025-03-26T13:58:03.943Z"
   },
   {
    "duration": 7,
    "start_time": "2025-03-26T13:58:03.996Z"
   },
   {
    "duration": 31,
    "start_time": "2025-03-26T13:58:04.005Z"
   },
   {
    "duration": 12,
    "start_time": "2025-03-26T13:58:04.038Z"
   },
   {
    "duration": 33,
    "start_time": "2025-03-26T13:58:04.052Z"
   },
   {
    "duration": 45,
    "start_time": "2025-03-26T13:58:04.087Z"
   },
   {
    "duration": 160,
    "start_time": "2025-03-26T13:58:04.136Z"
   },
   {
    "duration": 9,
    "start_time": "2025-03-26T13:58:04.298Z"
   },
   {
    "duration": 20,
    "start_time": "2025-03-26T13:58:04.309Z"
   },
   {
    "duration": 93,
    "start_time": "2025-03-26T13:58:04.331Z"
   },
   {
    "duration": 9,
    "start_time": "2025-03-26T13:58:04.426Z"
   },
   {
    "duration": 34,
    "start_time": "2025-03-26T13:58:04.437Z"
   },
   {
    "duration": 63,
    "start_time": "2025-03-26T13:58:04.473Z"
   },
   {
    "duration": 21,
    "start_time": "2025-03-26T13:58:04.538Z"
   },
   {
    "duration": 47,
    "start_time": "2025-03-26T13:58:04.560Z"
   },
   {
    "duration": 196,
    "start_time": "2025-03-26T13:58:04.609Z"
   },
   {
    "duration": 33,
    "start_time": "2025-03-26T13:58:04.807Z"
   },
   {
    "duration": 70,
    "start_time": "2025-03-26T13:58:04.842Z"
   },
   {
    "duration": 111,
    "start_time": "2025-03-26T13:58:04.914Z"
   },
   {
    "duration": 176,
    "start_time": "2025-03-26T13:58:05.026Z"
   },
   {
    "duration": 1396,
    "start_time": "2025-03-26T15:49:47.503Z"
   },
   {
    "duration": 2153,
    "start_time": "2025-03-26T15:49:48.901Z"
   },
   {
    "duration": 28,
    "start_time": "2025-03-26T15:49:51.055Z"
   },
   {
    "duration": 113,
    "start_time": "2025-03-26T15:49:51.085Z"
   },
   {
    "duration": 8,
    "start_time": "2025-03-26T15:49:51.200Z"
   },
   {
    "duration": 11,
    "start_time": "2025-03-26T15:49:51.209Z"
   },
   {
    "duration": 12,
    "start_time": "2025-03-26T15:49:51.222Z"
   },
   {
    "duration": 122,
    "start_time": "2025-03-26T15:49:51.236Z"
   },
   {
    "duration": 8,
    "start_time": "2025-03-26T15:49:51.360Z"
   },
   {
    "duration": 27,
    "start_time": "2025-03-26T15:49:51.370Z"
   },
   {
    "duration": 17,
    "start_time": "2025-03-26T15:49:51.399Z"
   },
   {
    "duration": 29,
    "start_time": "2025-03-26T15:49:51.417Z"
   },
   {
    "duration": 55,
    "start_time": "2025-03-26T15:49:51.447Z"
   },
   {
    "duration": 177,
    "start_time": "2025-03-26T15:49:51.503Z"
   },
   {
    "duration": 8,
    "start_time": "2025-03-26T15:49:51.682Z"
   },
   {
    "duration": 21,
    "start_time": "2025-03-26T15:49:51.691Z"
   },
   {
    "duration": 92,
    "start_time": "2025-03-26T15:49:51.714Z"
   },
   {
    "duration": 6,
    "start_time": "2025-03-26T15:49:51.808Z"
   },
   {
    "duration": 13,
    "start_time": "2025-03-26T15:49:51.816Z"
   },
   {
    "duration": 57,
    "start_time": "2025-03-26T15:49:51.830Z"
   },
   {
    "duration": 20,
    "start_time": "2025-03-26T15:49:51.888Z"
   },
   {
    "duration": 128,
    "start_time": "2025-03-26T15:49:51.910Z"
   },
   {
    "duration": 220,
    "start_time": "2025-03-26T15:49:52.040Z"
   },
   {
    "duration": 41,
    "start_time": "2025-03-26T15:49:52.262Z"
   },
   {
    "duration": 81,
    "start_time": "2025-03-26T15:49:52.305Z"
   },
   {
    "duration": 122,
    "start_time": "2025-03-26T15:49:52.388Z"
   },
   {
    "duration": 191,
    "start_time": "2025-03-26T15:49:52.512Z"
   },
   {
    "duration": 414517,
    "start_time": "2025-03-26T15:49:52.707Z"
   },
   {
    "duration": 3,
    "start_time": "2025-03-26T15:56:47.226Z"
   },
   {
    "duration": 28,
    "start_time": "2025-03-26T15:56:47.231Z"
   },
   {
    "duration": 642,
    "start_time": "2025-03-26T15:56:47.261Z"
   },
   {
    "duration": 473,
    "start_time": "2025-03-26T15:56:47.905Z"
   },
   {
    "duration": 380,
    "start_time": "2025-03-26T15:56:48.379Z"
   },
   {
    "duration": 136,
    "start_time": "2025-03-26T15:56:48.761Z"
   },
   {
    "duration": 27,
    "start_time": "2025-03-26T15:56:48.899Z"
   },
   {
    "duration": 1194,
    "start_time": "2025-03-27T12:55:38.189Z"
   },
   {
    "duration": 2182,
    "start_time": "2025-03-27T12:55:39.385Z"
   },
   {
    "duration": 22,
    "start_time": "2025-03-27T12:55:41.570Z"
   },
   {
    "duration": 99,
    "start_time": "2025-03-27T12:55:41.594Z"
   },
   {
    "duration": 10,
    "start_time": "2025-03-27T12:55:41.695Z"
   },
   {
    "duration": 15,
    "start_time": "2025-03-27T12:55:41.707Z"
   },
   {
    "duration": 8,
    "start_time": "2025-03-27T12:55:41.723Z"
   },
   {
    "duration": 37,
    "start_time": "2025-03-27T12:55:41.732Z"
   },
   {
    "duration": 6,
    "start_time": "2025-03-27T12:55:41.771Z"
   },
   {
    "duration": 68,
    "start_time": "2025-03-27T12:55:41.778Z"
   },
   {
    "duration": 84,
    "start_time": "2025-03-27T12:55:41.847Z"
   },
   {
    "duration": 35,
    "start_time": "2025-03-27T12:55:41.932Z"
   },
   {
    "duration": 45,
    "start_time": "2025-03-27T12:55:41.969Z"
   },
   {
    "duration": 137,
    "start_time": "2025-03-27T12:55:42.018Z"
   },
   {
    "duration": 6,
    "start_time": "2025-03-27T12:55:42.157Z"
   },
   {
    "duration": 22,
    "start_time": "2025-03-27T12:55:42.165Z"
   },
   {
    "duration": 86,
    "start_time": "2025-03-27T12:55:42.188Z"
   },
   {
    "duration": 6,
    "start_time": "2025-03-27T12:55:42.276Z"
   },
   {
    "duration": 29,
    "start_time": "2025-03-27T12:55:42.283Z"
   },
   {
    "duration": 37,
    "start_time": "2025-03-27T12:55:42.313Z"
   },
   {
    "duration": 104,
    "start_time": "2025-03-27T12:55:42.351Z"
   },
   {
    "duration": 77,
    "start_time": "2025-03-27T12:55:42.456Z"
   },
   {
    "duration": 297,
    "start_time": "2025-03-27T12:55:42.534Z"
   },
   {
    "duration": 31,
    "start_time": "2025-03-27T12:55:42.833Z"
   },
   {
    "duration": 69,
    "start_time": "2025-03-27T12:55:42.865Z"
   },
   {
    "duration": 114,
    "start_time": "2025-03-27T12:55:42.935Z"
   },
   {
    "duration": 168,
    "start_time": "2025-03-27T12:55:43.050Z"
   },
   {
    "duration": 382284,
    "start_time": "2025-03-27T12:55:43.220Z"
   },
   {
    "duration": 4,
    "start_time": "2025-03-27T13:02:05.506Z"
   },
   {
    "duration": 40,
    "start_time": "2025-03-27T13:02:05.516Z"
   },
   {
    "duration": 662,
    "start_time": "2025-03-27T13:02:05.558Z"
   },
   {
    "duration": 434,
    "start_time": "2025-03-27T13:02:06.222Z"
   },
   {
    "duration": 363,
    "start_time": "2025-03-27T13:02:06.658Z"
   },
   {
    "duration": 125,
    "start_time": "2025-03-27T13:02:07.023Z"
   },
   {
    "duration": 18,
    "start_time": "2025-03-27T13:02:07.150Z"
   },
   {
    "duration": 102,
    "start_time": "2025-03-27T13:02:07.170Z"
   },
   {
    "duration": 349,
    "start_time": "2025-03-27T13:02:07.274Z"
   },
   {
    "duration": 15,
    "start_time": "2025-03-27T13:02:07.624Z"
   },
   {
    "duration": 282,
    "start_time": "2025-03-27T13:02:07.640Z"
   },
   {
    "duration": 4,
    "start_time": "2025-03-27T13:02:07.926Z"
   },
   {
    "duration": 18,
    "start_time": "2025-03-27T13:02:07.931Z"
   },
   {
    "duration": 26,
    "start_time": "2025-03-27T13:02:07.950Z"
   },
   {
    "duration": 18,
    "start_time": "2025-03-27T13:02:07.977Z"
   },
   {
    "duration": 7,
    "start_time": "2025-03-27T13:02:07.997Z"
   },
   {
    "duration": 63,
    "start_time": "2025-03-27T13:02:08.005Z"
   },
   {
    "duration": 46,
    "start_time": "2025-03-27T13:02:08.070Z"
   },
   {
    "duration": 183,
    "start_time": "2025-03-27T13:02:08.118Z"
   },
   {
    "duration": 771,
    "start_time": "2025-03-27T13:11:48.213Z"
   },
   {
    "duration": 33,
    "start_time": "2025-03-27T13:12:01.330Z"
   }
  ],
  "kernelspec": {
   "display_name": "Python [conda env:base] *",
   "language": "python",
   "name": "conda-base-py"
  },
  "language_info": {
   "codemirror_mode": {
    "name": "ipython",
    "version": 3
   },
   "file_extension": ".py",
   "mimetype": "text/x-python",
   "name": "python",
   "nbconvert_exporter": "python",
   "pygments_lexer": "ipython3",
   "version": "3.12.7"
  },
  "toc": {
   "base_numbering": 1,
   "nav_menu": {},
   "number_sections": true,
   "sideBar": true,
   "skip_h1_title": true,
   "title_cell": "Table of Contents",
   "title_sidebar": "Contents",
   "toc_cell": false,
   "toc_position": {},
   "toc_section_display": true,
   "toc_window_display": true
  }
 },
 "nbformat": 4,
 "nbformat_minor": 5
}
